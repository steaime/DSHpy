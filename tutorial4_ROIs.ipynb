{
 "cells": [
  {
   "cell_type": "code",
   "execution_count": 2,
   "metadata": {},
   "outputs": [
    {
     "name": "stderr",
     "output_type": "stream",
     "text": [
      "INFO:root:ROI processing tutorial started\n"
     ]
    }
   ],
   "source": [
    "%matplotlib inline\n",
    "import matplotlib.pyplot as plt\n",
    "import matplotlib.patches as patches\n",
    "import numpy as np\n",
    "import os\n",
    "from DSH import MIfile as MI\n",
    "from DSH import Config as cf\n",
    "from DSH import ROIproc as RP\n",
    "from DSH import SharedFunctions as sf\n",
    "from DSH import IOfunctions as iof\n",
    "\n",
    "import logging\n",
    "logger = logging.getLogger()\n",
    "logger.setLevel(logging.DEBUG)\n",
    "logger = logging.getLogger('matplotlib')\n",
    "logger.setLevel(logging.WARNING)\n",
    "logging.info('ROI processing tutorial started')"
   ]
  },
  {
   "cell_type": "markdown",
   "metadata": {},
   "source": [
    "# Processing Regions Of Interest (ROIs)\n",
    "\n",
    "```CorrMaps``` class is designed to compute correlations with maximum spatial resolution. This comes at the expense of computation time and of output size. When maximum spatial resolution is not the priority, it may be convenient to average the intensity correlation on fewer, extended Regions Of Interest (ROIs). This is done by the ```ROIproc``` class. We test it on a dummy dataset:"
   ]
  },
  {
   "cell_type": "code",
   "execution_count": 3,
   "metadata": {},
   "outputs": [
    {
     "name": "stderr",
     "output_type": "stream",
     "text": [
      "DEBUG:root:MIfile object created with filename ..\\ROI_test\\MI.raw\n",
      "DEBUG:root:Now loading MIfile metadata (from filename: ..\\ROI_test\\MI_metadata.ini)\n"
     ]
    },
    {
     "ename": "OSError",
     "evalue": "Configuration file ..\\ROI_test\\MI_metadata.ini not found",
     "output_type": "error",
     "traceback": [
      "\u001b[1;31m---------------------------------------------------------------------------\u001b[0m",
      "\u001b[1;31mOSError\u001b[0m                                   Traceback (most recent call last)",
      "Cell \u001b[1;32mIn[3], line 2\u001b[0m\n\u001b[0;32m      1\u001b[0m froot \u001b[38;5;241m=\u001b[39m \u001b[38;5;124mr\u001b[39m\u001b[38;5;124m'\u001b[39m\u001b[38;5;124m..\u001b[39m\u001b[38;5;124m\\\u001b[39m\u001b[38;5;124mROI_test\u001b[39m\u001b[38;5;124m'\u001b[39m\n\u001b[1;32m----> 2\u001b[0m MIinput \u001b[38;5;241m=\u001b[39m \u001b[43mMI\u001b[49m\u001b[38;5;241;43m.\u001b[39;49m\u001b[43mMIfile\u001b[49m\u001b[43m(\u001b[49m\u001b[43mos\u001b[49m\u001b[38;5;241;43m.\u001b[39;49m\u001b[43mpath\u001b[49m\u001b[38;5;241;43m.\u001b[39;49m\u001b[43mjoin\u001b[49m\u001b[43m(\u001b[49m\u001b[43mfroot\u001b[49m\u001b[43m,\u001b[49m\u001b[43m \u001b[49m\u001b[38;5;124;43m'\u001b[39;49m\u001b[38;5;124;43mMI.raw\u001b[39;49m\u001b[38;5;124;43m'\u001b[39;49m\u001b[43m)\u001b[49m\u001b[43m,\u001b[49m\u001b[43m \u001b[49m\u001b[43mos\u001b[49m\u001b[38;5;241;43m.\u001b[39;49m\u001b[43mpath\u001b[49m\u001b[38;5;241;43m.\u001b[39;49m\u001b[43mjoin\u001b[49m\u001b[43m(\u001b[49m\u001b[43mfroot\u001b[49m\u001b[43m,\u001b[49m\u001b[43m \u001b[49m\u001b[38;5;124;43m'\u001b[39;49m\u001b[38;5;124;43mMI_metadata.ini\u001b[39;49m\u001b[38;5;124;43m'\u001b[39;49m\u001b[43m)\u001b[49m\u001b[43m)\u001b[49m\n\u001b[0;32m      3\u001b[0m MIinput\u001b[38;5;241m.\u001b[39mOpenForReading()\n\u001b[0;32m      4\u001b[0m im1 \u001b[38;5;241m=\u001b[39m MIinput\u001b[38;5;241m.\u001b[39mGetImage(\u001b[38;5;241m0\u001b[39m)\n",
      "File \u001b[1;32mc:\\Users\\stefa\\Documents\\GitHub\\DSHpy\\DSH\\MIfile.py:274\u001b[0m, in \u001b[0;36mMIfile.__init__\u001b[1;34m(self, FileName, MetaData)\u001b[0m\n\u001b[0;32m    272\u001b[0m     MetaData \u001b[38;5;241m=\u001b[39m os\u001b[38;5;241m.\u001b[39mpath\u001b[38;5;241m.\u001b[39msplitext(FileName)[\u001b[38;5;241m0\u001b[39m] \u001b[38;5;241m+\u001b[39m \u001b[38;5;124m'\u001b[39m\u001b[38;5;124m_metadata.ini\u001b[39m\u001b[38;5;124m'\u001b[39m\n\u001b[0;32m    273\u001b[0m     logging\u001b[38;5;241m.\u001b[39mdebug(\u001b[38;5;124m'\u001b[39m\u001b[38;5;124mMIfile - Metadata filename automatically generated: \u001b[39m\u001b[38;5;124m'\u001b[39m \u001b[38;5;241m+\u001b[39m \u001b[38;5;28mstr\u001b[39m(MetaData))\n\u001b[1;32m--> 274\u001b[0m \u001b[38;5;28;43mself\u001b[39;49m\u001b[38;5;241;43m.\u001b[39;49m\u001b[43m_load_metadata\u001b[49m\u001b[43m(\u001b[49m\u001b[43mMetaData\u001b[49m\u001b[43m)\u001b[49m\n",
      "File \u001b[1;32mc:\\Users\\stefa\\Documents\\GitHub\\DSHpy\\DSH\\MIfile.py:615\u001b[0m, in \u001b[0;36mMIfile._load_metadata\u001b[1;34m(self, meta_data)\u001b[0m\n\u001b[0;32m    613\u001b[0m     logging\u001b[38;5;241m.\u001b[39minfo(\u001b[38;5;124m'\u001b[39m\u001b[38;5;124mMIfile._load_metadata() : Default MI settings file (\u001b[39m\u001b[38;5;132;01m{0}\u001b[39;00m\u001b[38;5;124m) not found. Loading metadata with hard-coded defaults\u001b[39m\u001b[38;5;124m'\u001b[39m\u001b[38;5;241m.\u001b[39mformat(default_settings))\n\u001b[0;32m    614\u001b[0m     default_settings \u001b[38;5;241m=\u001b[39m []\n\u001b[1;32m--> 615\u001b[0m \u001b[38;5;28mself\u001b[39m\u001b[38;5;241m.\u001b[39mMetaData \u001b[38;5;241m=\u001b[39m \u001b[43mcf\u001b[49m\u001b[38;5;241;43m.\u001b[39;49m\u001b[43mLoadMetadata\u001b[49m\u001b[43m(\u001b[49m\u001b[43mmeta_data\u001b[49m\u001b[43m,\u001b[49m\u001b[43m \u001b[49m\u001b[43mSectionName\u001b[49m\u001b[38;5;241;43m=\u001b[39;49m\u001b[38;5;124;43m'\u001b[39;49m\u001b[38;5;124;43mMIfile\u001b[39;49m\u001b[38;5;124;43m'\u001b[39;49m\u001b[43m,\u001b[49m\u001b[43m \u001b[49m\u001b[43mDefaultFiles\u001b[49m\u001b[38;5;241;43m=\u001b[39;49m\u001b[43mdefault_settings\u001b[49m\u001b[43m)\u001b[49m\n\u001b[0;32m    616\u001b[0m \u001b[38;5;28;01mif\u001b[39;00m \u001b[38;5;124m'\u001b[39m\u001b[38;5;124mMIfile\u001b[39m\u001b[38;5;124m'\u001b[39m \u001b[38;5;129;01mnot\u001b[39;00m \u001b[38;5;129;01min\u001b[39;00m \u001b[38;5;28mself\u001b[39m\u001b[38;5;241m.\u001b[39mMetaData\u001b[38;5;241m.\u001b[39mGetSections():\n\u001b[0;32m    617\u001b[0m     logging\u001b[38;5;241m.\u001b[39mwarn(\u001b[38;5;124m'\u001b[39m\u001b[38;5;124mNo MIfile section found in MIfile metadata (available sections: \u001b[39m\u001b[38;5;124m'\u001b[39m \u001b[38;5;241m+\u001b[39m \u001b[38;5;28mstr\u001b[39m(\u001b[38;5;28mself\u001b[39m\u001b[38;5;241m.\u001b[39mMetaData\u001b[38;5;241m.\u001b[39mGetSections()) \u001b[38;5;241m+\u001b[39m \u001b[38;5;124m'\u001b[39m\u001b[38;5;124m)\u001b[39m\u001b[38;5;124m'\u001b[39m)\n",
      "File \u001b[1;32mc:\\Users\\stefa\\Documents\\GitHub\\DSHpy\\DSH\\Config.py:34\u001b[0m, in \u001b[0;36mLoadMetadata\u001b[1;34m(MetaData, SectionName, DefaultFiles)\u001b[0m\n\u001b[0;32m     33\u001b[0m \u001b[38;5;28;01mdef\u001b[39;00m \u001b[38;5;21mLoadMetadata\u001b[39m(MetaData, SectionName\u001b[38;5;241m=\u001b[39m\u001b[38;5;28;01mNone\u001b[39;00m, DefaultFiles\u001b[38;5;241m=\u001b[39m[]):\n\u001b[1;32m---> 34\u001b[0m     \u001b[38;5;28;01mreturn\u001b[39;00m \u001b[43mLoadConfig\u001b[49m\u001b[43m(\u001b[49m\u001b[43mMetaData\u001b[49m\u001b[43m,\u001b[49m\u001b[43m \u001b[49m\u001b[43mSectionName\u001b[49m\u001b[43m,\u001b[49m\u001b[43m \u001b[49m\u001b[43mDefaultFiles\u001b[49m\u001b[43m)\u001b[49m\n",
      "File \u001b[1;32mc:\\Users\\stefa\\Documents\\GitHub\\DSHpy\\DSH\\Config.py:58\u001b[0m, in \u001b[0;36mLoadConfig\u001b[1;34m(ConfigData, SectionName, DefaultFiles)\u001b[0m\n\u001b[0;32m     56\u001b[0m     outConfig\u001b[38;5;241m.\u001b[39mImport(ConfigData, section_name\u001b[38;5;241m=\u001b[39mSectionName)\n\u001b[0;32m     57\u001b[0m \u001b[38;5;28;01melif\u001b[39;00m (\u001b[38;5;28mtype\u001b[39m(ConfigData) \u001b[38;5;129;01min\u001b[39;00m [\u001b[38;5;28mstr\u001b[39m]):\n\u001b[1;32m---> 58\u001b[0m     outConfig \u001b[38;5;241m=\u001b[39m \u001b[43mConfig\u001b[49m\u001b[43m(\u001b[49m\u001b[43mConfigData\u001b[49m\u001b[43m,\u001b[49m\u001b[43m \u001b[49m\u001b[43mdefaultConfigFiles\u001b[49m\u001b[38;5;241;43m=\u001b[39;49m\u001b[43mDefaultFiles\u001b[49m\u001b[43m,\u001b[49m\u001b[43m \u001b[49m\u001b[43mLoadSectionOnly\u001b[49m\u001b[38;5;241;43m=\u001b[39;49m\u001b[43mSectionName\u001b[49m\u001b[43m)\u001b[49m\n\u001b[0;32m     59\u001b[0m     logging\u001b[38;5;241m.\u001b[39mdebug(\u001b[38;5;124m'\u001b[39m\u001b[38;5;124mLoading config file \u001b[39m\u001b[38;5;124m'\u001b[39m \u001b[38;5;241m+\u001b[39m \u001b[38;5;28mstr\u001b[39m(ConfigData) \u001b[38;5;241m+\u001b[39m \u001b[38;5;124m'\u001b[39m\u001b[38;5;124m (\u001b[39m\u001b[38;5;124m'\u001b[39m \u001b[38;5;241m+\u001b[39m \u001b[38;5;28mstr\u001b[39m(outConfig\u001b[38;5;241m.\u001b[39mCountSections()) \u001b[38;5;241m+\u001b[39m \n\u001b[0;32m     60\u001b[0m                   \u001b[38;5;124m'\u001b[39m\u001b[38;5;124m sections, \u001b[39m\u001b[38;5;124m'\u001b[39m \u001b[38;5;241m+\u001b[39m \u001b[38;5;28mstr\u001b[39m(outConfig\u001b[38;5;241m.\u001b[39mCountKeys()) \u001b[38;5;241m+\u001b[39m \u001b[38;5;124m'\u001b[39m\u001b[38;5;124m keys)\u001b[39m\u001b[38;5;124m'\u001b[39m)\n\u001b[0;32m     61\u001b[0m \u001b[38;5;28;01melse\u001b[39;00m:\n",
      "File \u001b[1;32mc:\\Users\\stefa\\Documents\\GitHub\\DSHpy\\DSH\\Config.py:101\u001b[0m, in \u001b[0;36mConfig.__init__\u001b[1;34m(self, ConfigFile, defaultConfigFiles, LoadSectionOnly)\u001b[0m\n\u001b[0;32m     99\u001b[0m         \u001b[38;5;28mself\u001b[39m\u001b[38;5;241m.\u001b[39mconfig\u001b[38;5;241m.\u001b[39mread(ConfigFile)\n\u001b[0;32m    100\u001b[0m     \u001b[38;5;28;01melse\u001b[39;00m:\n\u001b[1;32m--> 101\u001b[0m         \u001b[38;5;28;01mraise\u001b[39;00m \u001b[38;5;167;01mIOError\u001b[39;00m(\u001b[38;5;124m'\u001b[39m\u001b[38;5;124mConfiguration file \u001b[39m\u001b[38;5;124m'\u001b[39m \u001b[38;5;241m+\u001b[39m \u001b[38;5;28mstr\u001b[39m(ConfigFile) \u001b[38;5;241m+\u001b[39m \u001b[38;5;124m'\u001b[39m\u001b[38;5;124m not found\u001b[39m\u001b[38;5;124m'\u001b[39m)\n\u001b[0;32m    102\u001b[0m \u001b[38;5;28;01mif\u001b[39;00m LoadSectionOnly \u001b[38;5;129;01mis\u001b[39;00m \u001b[38;5;129;01mnot\u001b[39;00m \u001b[38;5;28;01mNone\u001b[39;00m:\n\u001b[0;32m    103\u001b[0m     \u001b[38;5;28;01mif\u001b[39;00m (\u001b[38;5;28mself\u001b[39m\u001b[38;5;241m.\u001b[39mconfig\u001b[38;5;241m.\u001b[39mhas_section(LoadSectionOnly)):\n",
      "\u001b[1;31mOSError\u001b[0m: Configuration file ..\\ROI_test\\MI_metadata.ini not found"
     ]
    }
   ],
   "source": [
    "froot = r'..\\ROI_test'\n",
    "MIinput = MI.MIfile(os.path.join(froot, 'MI.raw'), os.path.join(froot, 'MI_metadata.ini'))\n",
    "MIinput.OpenForReading()\n",
    "im1 = MIinput.GetImage(0)\n",
    "plt.imshow(im1)\n",
    "plt.colorbar()"
   ]
  },
  {
   "cell_type": "markdown",
   "metadata": {},
   "source": [
    "### Defining a set of ROIs\n",
    "\n",
    "To define a set of ROIs, the fist thing required is a reference system. Both cartesian and polar coordinates are supported, and can be generated, for a given image shape, by calling:\n",
    "\n",
    "```python\n",
    "grid = SharedFunctions.PixelCoordGrid(shape, extent=None, center=[0, 0], angle=0, coords='cartesian', indexing='xy')\n",
    "```\n",
    "\n",
    "where:\n",
    "- ```shape``` is the shape of the map, in number of pixels ```[num_rows, num_cols]```\n",
    "- ```extent``` is the cartesian extent of the mapping, in physical units ```[x_left, x_right, y_bottom, y_top]```. They can eventually be reversed (e.g. ```x_right<x_left```). If it is set to ```None```, it takes the default value ```[0, shape[1], shape[0], 0]```\n",
    "- ```center``` is the origin of the coordinate system, in physical units\n",
    "- ```angle``` is a parameter eventually rotating the coordinate system by a given angle, in radians. For cartesian coordinates, ```angle=0``` means $(x', y')=(x, y)$, whereas ```angle=pi/2``` means $(x', y')=(y, -x)$. For polar coordinates, ```angle=0``` means $\\theta=0$ along $+x$, whereas ```angle=pi/2``` means $\\theta=0$ along $+y$ (note: this means downwards if ```indexing='xy'```)\n",
    "- ```coords``` is the choice of the coordinate system: set it to ```['cartesian'|'polar']``` to return ```[x,y]``` or ```[r,theta]``` respectively\n",
    "- ```indexing``` is the choice of ```numpy.meshgrid``` indexing method. Set it to ```['xy'|'ij']``` to return cartesian coordinates or rows and columns "
   ]
  },
  {
   "cell_type": "code",
   "execution_count": 3,
   "metadata": {},
   "outputs": [
    {
     "data": {
      "text/plain": [
       "<matplotlib.colorbar.Colorbar at 0x26a9eef9448>"
      ]
     },
     "execution_count": 3,
     "metadata": {},
     "output_type": "execute_result"
    },
    {
     "data": {
      "image/png": "[encoded data removed]",
      "text/plain": [
       "<Figure size 432x288 with 2 Axes>"
      ]
     },
     "metadata": {
      "needs_background": "light"
     },
     "output_type": "display_data"
    }
   ],
   "source": [
    "px_coords = sf.PixelCoordGrid(MIinput.ImageShape(), extent=None, center=[0, 0], angle=0, coords='cartesian', indexing='xy')\n",
    "plt.imshow(px_coords[0])\n",
    "plt.colorbar()"
   ]
  },
  {
   "cell_type": "markdown",
   "metadata": {},
   "source": [
    "Based on this set of coordinates, ROIs can be defined by their center coordinates and their extent: $(x, y, dx, dy)$ or $(r, \\theta, dr, d\\theta)$. The resulting set of ROIs is stored as a list of binary masks one for each ROI.\n",
    "\n",
    "```python\n",
    "ROI_masks = RP.GenerateMasks(coords, grid, common_mask=None)\n",
    "```\n",
    "\n",
    "where:\n",
    "- ```coords``` is a list of mask coordinates in the form ```[x0, x1, dx0, dx1]```\n",
    "- ```grid``` is a grid of coordinates, as generated by ```RP.PixelCoordGrid```\n",
    "- ```common_mask``` eventually contains a common mask with pixels to be excluded from all ROIs\n",
    "\n"
   ]
  },
  {
   "cell_type": "code",
   "execution_count": 4,
   "metadata": {},
   "outputs": [
    {
     "data": {
      "text/plain": [
       "<matplotlib.image.AxesImage at 0x26a9ef5f148>"
      ]
     },
     "execution_count": 4,
     "metadata": {},
     "output_type": "execute_result"
    },
    {
     "data": {
      "image/png": "[encoded data removed]",
      "text/plain": [
       "<Figure size 432x288 with 1 Axes>"
      ]
     },
     "metadata": {
      "needs_background": "light"
     },
     "output_type": "display_data"
    }
   ],
   "source": [
    "pxmask = MI.ReadBinary(os.path.join(froot, 'px_mask.raw'), MIinput.ImageShape(), 'B')\n",
    "plt.imshow(pxmask)"
   ]
  },
  {
   "cell_type": "markdown",
   "metadata": {},
   "source": [
    "A list of binary masks can also be visualized as an integer map, reporting the ROI index every pixel belongs to, using:\n",
    "\n",
    "```python\n",
    "RP.BinaryToIntegerMask(ROI_masks)\n",
    "```\n",
    "\n",
    "Note that regions of overlapping ROIs are not resolved by this visualization, but they are supported by ```ROIproc```, which uses independent binary masks for each ROI"
   ]
  },
  {
   "cell_type": "code",
   "execution_count": 5,
   "metadata": {},
   "outputs": [
    {
     "name": "stderr",
     "output_type": "stream",
     "text": [
      "DEBUG:root:4 binary masks created with shape (256, 256)\n"
     ]
    },
    {
     "data": {
      "text/plain": [
       "<matplotlib.image.AxesImage at 0x26a9efdb988>"
      ]
     },
     "execution_count": 5,
     "metadata": {},
     "output_type": "execute_result"
    },
    {
     "data": {
      "image/png": "[encoded data removed]",
      "text/plain": [
       "<Figure size 432x288 with 1 Axes>"
      ]
     },
     "metadata": {
      "needs_background": "light"
     },
     "output_type": "display_data"
    }
   ],
   "source": [
    "ROI_coords = [[125, 225, 150, 50], [75, 125, 50, 50], [200, 100, 50, 100], [175, 60, 80, 40]]\n",
    "ROIs = RP.GenerateMasks(ROI_coords, px_coords, common_mask=pxmask)\n",
    "plt.imshow(RP.BinaryToIntegerMask(ROIs))"
   ]
  },
  {
   "cell_type": "markdown",
   "metadata": {},
   "source": [
    "The entire image can be tiled with ROIs using:\n",
    "\n",
    "```python\n",
    "ROI_grid, ROI_nodes = RP.GenerateROIgrid(px_coords, GridShape, coord_limits=None, common_mask=None)\n",
    "```\n",
    "\n",
    "where:\n",
    "- ```px_coords``` is a grid of pixel coordinates, as generated by ```RP.PixelCoordGrid```\n",
    "- ```GridShape``` is a couple ```(M,N)``` specifying the number of ROIs across each coordinate axis\n",
    "- ```coord_limits``` eventually restricts the tiling to a subset of the entire space defined by its boundaries along each axis: ```[[min_x0, max_x0], [min_x1, max_x1]]```. If None, full axis span will be taken"
   ]
  },
  {
   "cell_type": "code",
   "execution_count": 6,
   "metadata": {},
   "outputs": [
    {
     "name": "stderr",
     "output_type": "stream",
     "text": [
      "DEBUG:root:16 binary masks created with shape (256, 256)\n"
     ]
    },
    {
     "data": {
      "text/plain": [
       "<matplotlib.image.AxesImage at 0x26a9f15f5c8>"
      ]
     },
     "execution_count": 6,
     "metadata": {},
     "output_type": "execute_result"
    },
    {
     "data": {
      "image/png": "[encoded data removed]",
      "text/plain": [
       "<Figure size 432x288 with 1 Axes>"
      ]
     },
     "metadata": {
      "needs_background": "light"
     },
     "output_type": "display_data"
    }
   ],
   "source": [
    "ROI_gridshape = (4, 4)\n",
    "ROI_grid, ROI_nodes = RP.GenerateROIgrid(px_coords, ROI_gridshape)\n",
    "plt.imshow(RP.BinaryToIntegerMask(ROI_grid))"
   ]
  },
  {
   "cell_type": "markdown",
   "metadata": {},
   "source": [
    "### Processing ROIs\n",
    "\n",
    "The core of a DLS analysis is to compute ROI-averaged statistics on image intensity $\\langle I_p \\rangle$. This is based on the function: \n",
    "\n",
    "```python\n",
    "AvgRes, norm = RP.ROIAverage(image, ROImask, boolMask=False, weights=None, norm=None, masknans=False, dtype=float, evalFunc=None, evalParams={}, debug=False):\n",
    "```\n",
    "\n",
    "where:\n",
    "- ```image```is either 2D image or 3D ndarray with list of images\n",
    "- ```ROImask``` is either a list of 2D binary masks (if ```boolMask==True```) or a 2D int array with same size as image, with each pixel labeled with the index of the ROI it belongs to, 0-based (if ```boolMask==False```). In this case, each pixel can only belong to one ROI, and pixels not belonging to any ROI must be labeled with -1\n",
    "- ```weights``` is a 2D float array, with the same shape as ```image```. If specified, the function computes a weighted average instead of a simple average.\n",
    "- ```norm``` list of normalization factors (float), one per ROI. Equals the number of pixel belonging to each ROI if average is not weighted. If ```None``` (default), it is computed from ROImask. It can be passed as an argument to speed up the computation.\n",
    "- ```masknans``` (bool). If true, assume the presence of NaNs in the array: mask them and don't count them in the normalization by setting their weight to zero. Set it to ```False``` if you are sure that there are no NaNs to improve calculation speed\n",
    "- ```dtype``` datatype of the accumulator in which the elements are summed. If the accumulator is too small, np.sum generates overflow\n",
    "- ```evalFunc``` if None, simple average will be computed. Otherwise, what will be averaged will be a function of the pixel values\n",
    "- ```evalParams``` eventually specify additional parameters for evalFunc\n",
    "\n",
    "The function returns:\n",
    "- ```AvgRes```: If processing a single image (2D input): 1D float array with ROI-averaged data. If processing multiple images (3D input): 2D float array, one image per row, one ROI per column. If a bin contains NO DATA (e.g. empty ROI, or zero weights, or due to NaNs), it will have a NaN value because of the divide-by-sum-of-weights component.\n",
    "- ```norm``` the normalization factor (sum of weights) for each ROI. If ```weights==None```, this is the number of pixels in the ROI"
   ]
  },
  {
   "cell_type": "code",
   "execution_count": 7,
   "metadata": {},
   "outputs": [
    {
     "data": {
      "text/plain": [
       "<matplotlib.lines.Line2D at 0x26a9f1abc08>"
      ]
     },
     "execution_count": 7,
     "metadata": {},
     "output_type": "execute_result"
    },
    {
     "data": {
      "image/png": "[encoded data removed]",
      "text/plain": [
       "<Figure size 432x288 with 1 Axes>"
      ]
     },
     "metadata": {
      "needs_background": "light"
     },
     "output_type": "display_data"
    }
   ],
   "source": [
    "AvgRes, norm = RP.ROIAverage(im1, ROI_grid, boolMask=True)\n",
    "plt.plot(AvgRes)\n",
    "plt.axhline(np.mean(im1), ls=':')"
   ]
  },
  {
   "cell_type": "markdown",
   "metadata": {},
   "source": [
    "To view it as a map:"
   ]
  },
  {
   "cell_type": "code",
   "execution_count": 8,
   "metadata": {},
   "outputs": [
    {
     "data": {
      "text/plain": [
       "<matplotlib.colorbar.Colorbar at 0x26a9f27c348>"
      ]
     },
     "execution_count": 8,
     "metadata": {},
     "output_type": "execute_result"
    },
    {
     "data": {
      "image/png": "[encoded data removed]",
      "text/plain": [
       "<Figure size 432x288 with 2 Axes>"
      ]
     },
     "metadata": {
      "needs_background": "light"
     },
     "output_type": "display_data"
    }
   ],
   "source": [
    "plt.imshow(AvgRes.reshape(ROI_gridshape).T)\n",
    "plt.colorbar()"
   ]
  },
  {
   "cell_type": "markdown",
   "metadata": {},
   "source": [
    "The same function can be used to compute image correlations $\\langle I_p(t) I_p(t+\\tau) \\rangle$:"
   ]
  },
  {
   "cell_type": "code",
   "execution_count": 9,
   "metadata": {},
   "outputs": [
    {
     "data": {
      "text/plain": [
       "<matplotlib.legend.Legend at 0x26a9f30e0c8>"
      ]
     },
     "execution_count": 9,
     "metadata": {},
     "output_type": "execute_result"
    },
    {
     "data": {
      "image/png": "[encoded data removed]",
      "text/plain": [
       "<Figure size 432x288 with 1 Axes>"
      ]
     },
     "metadata": {
      "needs_background": "light"
     },
     "output_type": "display_data"
    }
   ],
   "source": [
    "im2 = MIinput.GetImage(2)\n",
    "XprodAvg, norm = RP.ROIAverage(im1*im2, ROI_grid, boolMask=True)\n",
    "plt.axhline(np.mean(im1**2), ls='--', label=r'$\\langle I(t)^2\\rangle$')\n",
    "plt.plot(XprodAvg, label=r'$\\langle I(t)I(t+\\tau)\\rangle$')\n",
    "plt.axhline(np.mean(im1)**2, ls=':', label=r'$\\langle I(t)\\rangle^2$')\n",
    "plt.legend()"
   ]
  },
  {
   "cell_type": "markdown",
   "metadata": {},
   "source": [
    "### The ROIproc class\n",
    "\n",
    "The ```ROIproc``` class does this analysis on an input ```MIfile```. To initialize a ```ROIproc``` object:\n",
    "\n",
    "```python\n",
    "ROI_proc = RP.ROIproc(MIin, ROImasks, ROImetadata=None, imgTimes=None, expTimes=[1])\n",
    "```\n",
    "\n",
    "where:\n",
    "- ```MIin``` is the input ```MIfile``` or ```MIstack``` to be processed.\n",
    "- ```ROImasks``` is the list of binary masks Each mask is a 2D binary array with same shape as ```MIin.ImageShape()```. ```True``` values (nonzero) denote pixels that will be included in the analysis, ```False``` values (zeroes) will be excluded. If ```None```, all pixels will be included.\n",
    "- ```ROImetadata``` eventually specifies a ```dict``` of ROI metadata.  Can contain one or more of the following keys:\n",
    "    - ```'coords'``` : ndarray with ROI coordinates. If not set, ```ROIcoords=np.arange(self.CountROIs())```\n",
    "    - ```'coord_names'``` : list of ```str```: coordinate names. If not set, ```ROIcoord_names = [coord0, coord1, ...]```\n",
    "    - ```'box_margin'``` : positive ```int``` with margin left for drift measurement. Default: 0\n",
    "- ```imgTimes``` is a ```float``` array of length ```MIin.ImageNumber()```. i-th element will be the time of the image in physical units. If ```None```, time will be measured in image units.\n",
    "\n",
    "**NOTE: Image times and exposure times**\n",
    "\n",
    "In typical experiments, images are acquired at a constant rate (FPS), specified in the metadata of each MIfile (see tutorial 1). However, there are cases in which custom acquisition schemes may be used to enhance the sensitivity to both the fastest and the slowest dynamics. In these cases, the time at which each image has beed taken (```imgTimes```) needs to be provided. It is usually saved in an ASCII file accompanying the raw file with the images. If this is the case, image times can be extracted using:\n",
    "\n",
    "```python\n",
    "im_times = RP.LoadImageTimes(img_times_source, usecols=0, skiprows=1, root_folder=None, return_unique=False)\n",
    "```\n",
    "\n",
    "where:\n",
    "- ```img_times_source``` is the file name or list of filenames. If several filenames are given, results will be concatenated \n",
    "- ```usecols``` is index of the column in the file containing image times\n",
    "- ```skiprows``` is the number of rows to be skipped at the beginning of the file\n",
    "- ```root_folder``` is the root folder path. If specified, img_times_source will be interpreted as a relative path\n",
    "- ```return_unique``` : if ```True```, remove duplicates before returning result\n",
    "\n",
    "In addition, because sometimes the dynamic range of a typical 8bit camera is not enough to properly measure speckle patterns with spatially-modulated intensities, where the intensity may vary of several orders of magnitude, the same speckle field is typically recorded using multiple exposure times.\n",
    "Combining images taken at different exposure time in one unique spectrum requires knowledge of the exposure times (```expTimes```)."
   ]
  },
  {
   "cell_type": "code",
   "execution_count": 10,
   "metadata": {},
   "outputs": [
    {
     "name": "stderr",
     "output_type": "stream",
     "text": [
      "INFO:root:Set 4 valid ROIs\n",
      "DEBUG:root:10 image times automatically generated from MI metadata (fps=10.0Hz)\n",
      "DEBUG:root:Set one single exposure time: 1\n"
     ]
    },
    {
     "data": {
      "text/plain": [
       "<ROIproc object: MIfile (..\\ROI_test\\MI.raw) + 4 ROIs>"
      ]
     },
     "execution_count": 10,
     "metadata": {},
     "output_type": "execute_result"
    }
   ],
   "source": [
    "ROI_proc = RP.ROIproc(MIinput, ROIs)\n",
    "ROI_proc"
   ]
  },
  {
   "cell_type": "code",
   "execution_count": 11,
   "metadata": {},
   "outputs": [
    {
     "name": "stdout",
     "output_type": "stream",
     "text": [
      "\n",
      "|-----------------|\n",
      "|  ROIproc class: |\n",
      "|-----------------+---------------\n",
      "| Input           : MIfile (..\\ROI_test\\MI.raw), 10 images\n",
      "| ROIs            : 4 (4 valid, 0 empty)\n",
      "| Exposure times  : 1, from 1 to 1\n",
      "|-----------------+---------------\n"
     ]
    }
   ],
   "source": [
    "print(ROI_proc)"
   ]
  },
  {
   "cell_type": "code",
   "execution_count": 12,
   "metadata": {},
   "outputs": [
    {
     "data": {
      "text/plain": [
       "array([0. , 0.1, 0.2, 0.3, 0.4, 0.5, 0.6, 0.7, 0.8, 0.9])"
      ]
     },
     "execution_count": 12,
     "metadata": {},
     "output_type": "execute_result"
    }
   ],
   "source": [
    "ROI_proc.imgTimes"
   ]
  },
  {
   "cell_type": "markdown",
   "metadata": {},
   "source": [
    "The binary masks for the ROIs are stored in ```ROIproc.ROI_masks``` (or in its integer map form ```ROIproc.ROIs```):"
   ]
  },
  {
   "cell_type": "code",
   "execution_count": 13,
   "metadata": {},
   "outputs": [
    {
     "data": {
      "text/plain": [
       "<matplotlib.image.AxesImage at 0x26a9f380948>"
      ]
     },
     "execution_count": 13,
     "metadata": {},
     "output_type": "execute_result"
    },
    {
     "data": {
      "image/png": "[encoded data removed]",
      "text/plain": [
       "<Figure size 432x288 with 1 Axes>"
      ]
     },
     "metadata": {
      "needs_background": "light"
     },
     "output_type": "display_data"
    }
   ],
   "source": [
    "plt.imshow(RP.BinaryToIntegerMask(ROI_proc.ROI_masks))"
   ]
  },
  {
   "cell_type": "markdown",
   "metadata": {},
   "source": [
    "```ROIproc``` stores also the area of each ROI, to speed up normalization of ```RP.ROIAverage```. It is saved in ```ROIproc.ROI_maskSizes```:"
   ]
  },
  {
   "cell_type": "code",
   "execution_count": 14,
   "metadata": {},
   "outputs": [
    {
     "data": {
      "text/plain": [
       "array([6966, 2345, 5000, 3200])"
      ]
     },
     "execution_count": 14,
     "metadata": {},
     "output_type": "execute_result"
    }
   ],
   "source": [
    "ROI_proc.ROI_maskSizes"
   ]
  },
  {
   "cell_type": "markdown",
   "metadata": {},
   "source": [
    "To optimize computation, ```ROIproc``` stores the coordinates of the smallest box enclosing all ROIs in the form ```[min_row, min_col, max_row, max_col]``` in the variable ```ROIproc.ROIboundingBox``` or equivalently, in the form ```[topleftx, toplefty, width, height]``` in the variable ```self.CropROIbb```:"
   ]
  },
  {
   "cell_type": "code",
   "execution_count": 15,
   "metadata": {},
   "outputs": [
    {
     "data": {
      "text/plain": [
       "array([ 40,  50, 250, 225], dtype=int64)"
      ]
     },
     "execution_count": 15,
     "metadata": {},
     "output_type": "execute_result"
    },
    {
     "data": {
      "image/png": "[encoded data removed]",
      "text/plain": [
       "<Figure size 432x288 with 2 Axes>"
      ]
     },
     "metadata": {
      "needs_background": "light"
     },
     "output_type": "display_data"
    }
   ],
   "source": [
    "ROIbb = ROI_proc.BoundingBox\n",
    "ROIbb2 = ROI_proc.CropROIbb\n",
    "fig, ax = plt.subplots(ncols=2)\n",
    "ax[0].imshow(ROI_proc.ROIs, interpolation='none', extent=(0, ROI_proc.ROIs.shape[1], ROI_proc.ROIs.shape[0], 0))\n",
    "ax[0].add_patch(patches.Rectangle((ROIbb[1], ROIbb[0]), ROIbb[3]-ROIbb[1], ROIbb[2]-ROIbb[0], edgecolor='m', facecolor='none'))\n",
    "ax[0].add_patch(patches.Rectangle((ROIbb2[0], ROIbb2[1]), ROIbb2[2], ROIbb2[3], ls='-.', edgecolor='r', facecolor='none'))\n",
    "ax[1].imshow(ROI_proc.ROIs[ROIbb[0]:ROIbb[2],ROIbb[1]:ROIbb[3]])\n",
    "ROIbb"
   ]
  },
  {
   "cell_type": "markdown",
   "metadata": {},
   "source": [
    "When this bounding box is specified, ```ROIproc``` reads the ROI instead of the full image when its functions ```ROIproc.GetImage(image_idx, buffer)``` and ```ROIproc.ReadMI()``` are called.\n",
    "\n",
    "In addition, ```ROIproc``` stores the bounding boxes of every ROI in the form ```[min_row, min_col, max_row, max_col]```, where coordinates are defined *relative to the cropped image*, in the variable ```ROIproc.ROIboundingBoxes```.\n",
    "If ROIs are not simple rectangles, ```ROIproc``` stores a cropped binary image of the ROIs restricted to their bounding boxes, in the variable ```ROIproc.ROI_masks_crop```. If all ROIs are simple full rectangles, such that ```ROIproc.ROI_masks_crop``` are all ones, ```ROIproc.ROI_masks_crop``` is set to ```None``` instead."
   ]
  },
  {
   "cell_type": "code",
   "execution_count": 16,
   "metadata": {},
   "outputs": [
    {
     "name": "stdout",
     "output_type": "stream",
     "text": [
      "Bounding box shape is: (210, 175)\n",
      "ROIboundingBoxes:\n",
      "[[160   0 210 150]\n",
      " [ 60   0 110  50]\n",
      " [ 10 125 110 175]\n",
      " [  0  85  40 165]]\n"
     ]
    },
    {
     "data": {
      "image/png": "[encoded data removed]",
      "text/plain": [
       "<Figure size 432x288 with 1 Axes>"
      ]
     },
     "metadata": {
      "needs_background": "light"
     },
     "output_type": "display_data"
    }
   ],
   "source": [
    "im1_crop = ROI_proc.GetImage(0)\n",
    "print('Bounding box shape is: ' + str(im1_crop.shape))\n",
    "fig, ax = plt.subplots()\n",
    "ax.imshow(im1_crop, interpolation='none', extent=(0, ROI_proc.CropROIbb[2], ROI_proc.CropROIbb[3], 0))\n",
    "for ridx in range(len(ROI_proc.ROIboundingBoxes)):\n",
    "    _rbb = ROI_proc.ROIboundingBoxes[ridx]\n",
    "    if ROI_proc.ROI_masks_crop is not None:\n",
    "        ax.imshow(ROI_proc.ROI_masks_crop[ridx], interpolation='none', extent=(_rbb[1], _rbb[3], _rbb[2], _rbb[0]), vmin=0, vmax=1)\n",
    "    ax.add_patch(patches.Rectangle((_rbb[1], _rbb[0]), _rbb[3]-_rbb[1], _rbb[2]-_rbb[0], edgecolor='r', facecolor='none'))\n",
    "ax.set_xlim([0, ROI_proc.CropROIbb[2]])\n",
    "ax.set_ylim([ROI_proc.CropROIbb[3], 0])\n",
    "\n",
    "print('ROIboundingBoxes:')\n",
    "print(ROI_proc.ROIboundingBoxes)"
   ]
  },
  {
   "cell_type": "markdown",
   "metadata": {},
   "source": [
    "To further speed up the computation, these bounding boxes are given to the ```ROIAverage``` function, which then works on subsets of the whole image only. Because ```ROIproc``` contains both the ROIs and the input MIfile, computing ROIaverages only requires to specify the list of indexes of images to be processed. This is done in the function:\n",
    "```python\n",
    "AvgRes = ROIproc.ROIaverageIntensity(stack1, ROImasks=None, masks_isBool=False, no_buffer=False, imgs=None):\n",
    "```\n",
    "\n",
    "which is a special case of the more general function (with ```stack2==None```):\n",
    "```python\n",
    "AvgRes = ROIproc.ROIaverageProduct(stack1, stack2=None, ROImasks=None, masks_isBool=False, no_buffer=False, imgs=None):\n",
    "```\n",
    "\n",
    "where:\n",
    "\n",
    "- ```stack1``` is a list of indexes. Images will be either read by MIinput or retrieved from img_buffer\n",
    "- ```stack2``` is None, or list of indexes\n",
    "         - if None: function will return averages of single images (in stack1)\n",
    "         - if list: length should be the same as stack1\n",
    "- ```ROImasks``` : 2D int array or 3D bool array: masks associating each pixel to a ROI\n",
    "         - if 2D int array: pixel value will denote which ROI the pixel belongs to\n",
    "         - if 3D bool array: i-th 2D array willbe True for pixels belonging to i-th ROI\n",
    "         shape of each 2D mask has to match the image shape\n",
    "         if None, self.ROIs will be used (which is of type int by default)\n",
    "- ```masks_isBool``` : True or False to indicate that ROImasks is of bool or int type, respectively\n",
    "- ```no_buffer``` : if True, avoid reading all images to a buffer, but read images one by one\n",
    "            (dumping them afterwards)\n",
    "- ```imgs``` : None or 3D array with buffered images. If None, images will be read from MIinput\n",
    "\n",
    "The function returns a 2D array, with as many rows as the number of images and as many columns as the number of ROIs. ```AvgRes[i,j]``` is the average of i-th image on j-th ROI"
   ]
  },
  {
   "cell_type": "code",
   "execution_count": 17,
   "metadata": {},
   "outputs": [
    {
     "data": {
      "text/plain": [
       "<matplotlib.colorbar.Colorbar at 0x26a9f3d7848>"
      ]
     },
     "execution_count": 17,
     "metadata": {},
     "output_type": "execute_result"
    },
    {
     "data": {
      "image/png": "[encoded data removed]",
      "text/plain": [
       "<Figure size 432x288 with 2 Axes>"
      ]
     },
     "metadata": {
      "needs_background": "light"
     },
     "output_type": "display_data"
    }
   ],
   "source": [
    "AvgRes = ROI_proc.ROIaverageIntensity()\n",
    "plt.imshow(AvgRes)\n",
    "plt.colorbar()"
   ]
  },
  {
   "cell_type": "markdown",
   "metadata": {},
   "source": [
    "### Computing correlations\n",
    "\n",
    "Dynamic light scattering (DLS) measures the two-times correlation of the detected intensity: $c(t, \\tau)\\propto\\langle I_p(t) I_p(t+\\tau) \\rangle$, where the average $\\langle \\cdots \\rangle$ is computed on pixels belonging to the same ROI. This can be computed using ```ROI_proc.ROIaverageProduct``` defined above:"
   ]
  },
  {
   "cell_type": "code",
   "execution_count": 18,
   "metadata": {},
   "outputs": [
    {
     "data": {
      "text/plain": [
       "<matplotlib.colorbar.Colorbar at 0x26a9f48a088>"
      ]
     },
     "execution_count": 18,
     "metadata": {},
     "output_type": "execute_result"
    },
    {
     "data": {
      "image/png": "[encoded data removed]",
      "text/plain": [
       "<Figure size 432x288 with 2 Axes>"
      ]
     },
     "metadata": {
      "needs_background": "light"
     },
     "output_type": "display_data"
    }
   ],
   "source": [
    "tau_list = [0,1,2,3,4,5]\n",
    "AvgRes_num = ROI_proc.ROIaverageProduct([0]*len(tau_list), tau_list)\n",
    "plt.imshow(AvgRes_num)\n",
    "plt.colorbar()"
   ]
  },
  {
   "cell_type": "markdown",
   "metadata": {},
   "source": [
    "Each column is a ROI, $\\tau$ increases going downwards. The starting point for each column depende on $\\langle I_p \\rangle$, which is why it is interesting to normalize the correlation function. In principle, this is done using $\\langle I_p(t) \\rangle\\langle I_p(t+\\tau) \\rangle$"
   ]
  },
  {
   "cell_type": "code",
   "execution_count": 19,
   "metadata": {},
   "outputs": [
    {
     "data": {
      "text/plain": [
       "<matplotlib.colorbar.Colorbar at 0x26a9f656c48>"
      ]
     },
     "execution_count": 19,
     "metadata": {},
     "output_type": "execute_result"
    },
    {
     "data": {
      "image/png": "[encoded data removed]",
      "text/plain": [
       "<Figure size 432x288 with 2 Axes>"
      ]
     },
     "metadata": {
      "needs_background": "light"
     },
     "output_type": "display_data"
    }
   ],
   "source": [
    "AvgRes_den = ROI_proc.ROIaverageIntensity(tau_list)\n",
    "AvgRes_corr = np.empty_like(AvgRes_num)\n",
    "for tau_idx in range(AvgRes_num.shape[0]):\n",
    "    AvgRes_corr[tau_idx] = AvgRes_num[tau_idx]/(AvgRes_den[0]*AvgRes_den[tau_idx]) - 1\n",
    "plt.imshow(AvgRes_corr, vmin=0, vmax=1)\n",
    "plt.colorbar()"
   ]
  },
  {
   "cell_type": "markdown",
   "metadata": {},
   "source": [
    "Normalization using $\\langle I_p(t) \\rangle\\langle I_p(t+\\tau) \\rangle$ is not perfect, for some reason. For this reason, one can define a normalized correlation as in Duri et al., PRE 2005: $\\tilde{c}(t, \\tau)=2c(t, \\tau)/[c(t, 0)+c(t+\\tau, 0)]$. Note, for this example we only computed $t=0$ as a reference time so we use a simplified normalization with just $c(t, 0)$ as a denominator"
   ]
  },
  {
   "cell_type": "code",
   "execution_count": 20,
   "metadata": {},
   "outputs": [
    {
     "data": {
      "text/plain": [
       "<matplotlib.colorbar.Colorbar at 0x26a9f70ab88>"
      ]
     },
     "execution_count": 20,
     "metadata": {},
     "output_type": "execute_result"
    },
    {
     "data": {
      "image/png": "[encoded data removed]",
      "text/plain": [
       "<Figure size 432x288 with 2 Axes>"
      ]
     },
     "metadata": {
      "needs_background": "light"
     },
     "output_type": "display_data"
    }
   ],
   "source": [
    "AvgRes_corrNorm = np.empty_like(AvgRes_corr)\n",
    "for tau_idx in range(AvgRes_num.shape[0]):\n",
    "    AvgRes_corrNorm[tau_idx] = AvgRes_corr[tau_idx]/AvgRes_corr[0]\n",
    "plt.imshow(AvgRes_corrNorm, vmin=0, vmax=1)\n",
    "plt.colorbar()"
   ]
  },
  {
   "cell_type": "markdown",
   "metadata": {},
   "source": [
    "This matrix was generated using 0-th image as reference frame. Correlation timetraces $c_I(t, \\tau)$ are computed by repeating this calculation for all time points (until $t+\\tau$ exceeds the total duration of the image sequence)"
   ]
  },
  {
   "cell_type": "code",
   "execution_count": 21,
   "metadata": {},
   "outputs": [],
   "source": [
    "total_corr = np.nan * np.ones((ROI_proc.CountROIs(), ROI_proc.ImageNumber(), len(tau_list)))\n",
    "all_avgs = ROI_proc.ROIaverageIntensity()\n",
    "for tidx in range(ROI_proc.ImageNumber()):\n",
    "    lidx_list = [lidx for lidx in range(len(tau_list)) if tidx+tau_list[lidx] < all_avgs.shape[0]]\n",
    "    cur_avgProd = ROI_proc.ROIaverageProduct([tidx]*len(lidx_list), [tidx+tau_list[lidx] for lidx in lidx_list])\n",
    "    for lidx in lidx_list:\n",
    "        total_corr[:,tidx,lidx] = cur_avgProd[lidx]/(all_avgs[tidx]*all_avgs[tidx+tau_list[lidx]]) - 1\n",
    "# d0 correction (proper version)\n",
    "for tidx in range(ROI_proc.ImageNumber()):\n",
    "    for lidx in [lidx for lidx in range(len(tau_list)) if tidx+tau_list[lidx] < all_avgs.shape[0]]:\n",
    "        total_corr[:,tidx,lidx] /= 0.5 * (total_corr[:,tidx,0] + total_corr[:,tidx+tau_list[lidx],0])\n",
    "total_corr[:,:,0] = 1"
   ]
  },
  {
   "cell_type": "markdown",
   "metadata": {},
   "source": [
    "We should find the above matrix as special $t=0$ case"
   ]
  },
  {
   "cell_type": "code",
   "execution_count": 22,
   "metadata": {},
   "outputs": [
    {
     "data": {
      "text/plain": [
       "<matplotlib.colorbar.Colorbar at 0x26a9f7c32c8>"
      ]
     },
     "execution_count": 22,
     "metadata": {},
     "output_type": "execute_result"
    },
    {
     "data": {
      "image/png": "[encoded data removed]",
      "text/plain": [
       "<Figure size 432x288 with 2 Axes>"
      ]
     },
     "metadata": {
      "needs_background": "light"
     },
     "output_type": "display_data"
    }
   ],
   "source": [
    "plt.imshow(total_corr[:,0,:].T, vmin=0, vmax=1)\n",
    "plt.colorbar()"
   ]
  },
  {
   "cell_type": "markdown",
   "metadata": {},
   "source": [
    "Otherwise we can show correlation for one ROI, as a function of time (rows) and time delay (columns):"
   ]
  },
  {
   "cell_type": "code",
   "execution_count": 23,
   "metadata": {},
   "outputs": [
    {
     "data": {
      "text/plain": [
       "<matplotlib.colorbar.Colorbar at 0x26a9f871f08>"
      ]
     },
     "execution_count": 23,
     "metadata": {},
     "output_type": "execute_result"
    },
    {
     "data": {
      "image/png": "[encoded data removed]",
      "text/plain": [
       "<Figure size 432x288 with 2 Axes>"
      ]
     },
     "metadata": {
      "needs_background": "light"
     },
     "output_type": "display_data"
    }
   ],
   "source": [
    "plt.imshow(total_corr[0], vmin=0, vmax=1)\n",
    "plt.colorbar()"
   ]
  },
  {
   "cell_type": "markdown",
   "metadata": {},
   "source": [
    "The code above is integrated in the function:\n",
    "\n",
    "```python\n",
    "corr = ROIproc.CalcCorrelation(t1, t2, d0corr=True)\n",
    "```\n",
    "\n",
    "where:\n",
    "- ```t1``` and ```t2``` are image times to be correlated, in image units.$\n",
    "  They are ```int``` or list of ```int```. If they are both ```int```, output is 1D.\n",
    "  If one of them is ```int``` or 1-element list, it will be replicated to match the legth of the other list.\n",
    "  If both t1 and t2 are lists (they should be equal size), correlation will be computed between each ```(t1[i], t2[i])``` couple.\n",
    "  \n",
    "- ```d0corr``` is a boolean flag. Set it to ```False``` to return the raw $c(t_1, t_2)=\\langle I(t_1)I(t_2)\\rangle/[\\langle I(t_1)\\rangle\\langle I(t_2)\\rangle]$. Set it to ```True``` to return the normalized $\\tilde{c}(t_1, t_2)=2c(t_1, t_2)/[c(t_1, t_1)+c(t_2, t_2)]$"
   ]
  },
  {
   "cell_type": "code",
   "execution_count": 24,
   "metadata": {},
   "outputs": [
    {
     "name": "stderr",
     "output_type": "stream",
     "text": [
      "INFO:root:ROIproc.CalcCorrelation(): single first time (0) replicated 6 times to match length of second time (6).\n"
     ]
    },
    {
     "data": {
      "text/plain": [
       "<matplotlib.colorbar.Colorbar at 0x26aa091fa08>"
      ]
     },
     "execution_count": 24,
     "metadata": {},
     "output_type": "execute_result"
    },
    {
     "data": {
      "image/png": "[encoded data removed]",
      "text/plain": [
       "<Figure size 432x288 with 2 Axes>"
      ]
     },
     "metadata": {
      "needs_background": "light"
     },
     "output_type": "display_data"
    }
   ],
   "source": [
    "plt.imshow(ROI_proc.CalcCorrelation(0, tau_list, d0corr=True), vmin=0, vmax=1)\n",
    "plt.colorbar()"
   ]
  },
  {
   "cell_type": "markdown",
   "metadata": {},
   "source": [
    "### Time averaging correlations\n",
    "\n",
    "Finally, time-averaged correlation functions $g_2(\\tau)-1=\\langle c_I(t, \\tau)\\rangle_t$ can be computed by averaging two-point correlations $c_I(t, \\tau)$ on the reference time, $t$. This can be done using:\n",
    "\n",
    "```python\n",
    "g2m1, g2m1_lags, [g2m1_err] = ROIproc.AverageCorrTimetrace(CorrData, ImageTimes, Lagtimes_idxlist, avg_interval=None, img_indexes=None, return_stderr=False, sharp_bound=False, lag_tolerance=1e-2, lag_tolerance_isrelative=True)\n",
    "```\n",
    "\n",
    "where:\n",
    "\n",
    "- ```CorrData``` is the input correlation timetraces (2D float array). Element ```[i,j]``` is correlation between ```t[i]``` and ```t[i]+tau[j]```\n",
    "- ```ImageTimes``` is the array of image times (1D float array). i-th element is the physical time at which i-th image was taken\n",
    "- ```Lagtimes_idxlist``` is the list of lagtimes, in image units (1D int array). NOTE: they must be positive. Not yet compatible with negative time lags\n",
    "- ```avg_interval``` can be either ```None```, ```int```, couple of ints ```interval=[min_idx, max_idx]``` or list of couples ```[interval1, ..., intervalN]```. \n",
    "    - if ```None``` or ```int<=0```, result will be averaged on the entire stack\n",
    "    - if ```int>0```, resolve the average on consecutive chunks of ```avg_interval``` images each\n",
    "    - if ```[min_idx, max_idx, [step_idx=1]]```, average will be done in the specified interval\n",
    "    - if ```[interval1, ..., intervalN]```, a list of intervals will be computed as above\n",
    "- ```img_indexes```: ```None``` or 1D array, ```int```. Index of reference image relative to i-th row of ```CorrData``` array. if ```None``` (default), ```img_indexes=[0,1,...,CorrData.shape[0]-1]```. Specify it when ```CorrData``` was computed using a subset of reference times\n",
    "- ```return_stderr```: bool. If ```True```, return standard deviation of the correlation points averaged to obtain the g2-1\n",
    "- ```sharp_bound```: ```bool```. \n",
    "    - if ```False```, use interval bounds to associate any reference time to the corresponding interval, but average on all time lags, including those for which ref_time + time_lag >= max_idx\n",
    "    - if ```True```, for each reference time, restrict average such that both correlated timepoints are in the specified interval\n",
    "- ```lag_tolerance``` : ```float```. Time lags closer than ```lag_tolerance``` will be averaged together\n",
    "- ```lag_tolerance_isrelative``` : ```bool```\n",
    "    - if ```False```, time lags $\\tau_i$ and $\\tau_j$ will be averaged together if $|\\tau_i-\\tau_j|<$ ```lag_tolerance```\n",
    "    - if ```True```, the criterion will be that $\\left|2(\\tau_i-\\tau_j)/(\\tau_i+\\tau_j)\\right|<$ ```lag_tolerance```\n",
    "\n",
    "The function returns:\n",
    "\n",
    "- ```g2m1```: 2D array. Element ```[i,j]``` represents j-th lag time and i-th time-resolved chunk\n",
    "- ```g2m1_lags```: 2D array. It contains the time delays, in physical units, of the respective correlation data\n",
    "- ```g2m1_stderr```: 2D array. Element ```[i,j]``` represents the standard deviation of the data averaged to obtain ```g2m1[i,j]```. It is only returned if ```return_stderr==True```"
   ]
  },
  {
   "cell_type": "code",
   "execution_count": 25,
   "metadata": {},
   "outputs": [
    {
     "name": "stderr",
     "output_type": "stream",
     "text": [
      "DEBUG:root:[0 1 2 3 4 5 6 7 8 9]\n",
      "DEBUG:root:0\n"
     ]
    },
    {
     "name": "stdout",
     "output_type": "stream",
     "text": [
      "g2-1 averaged on 1 time intervals (3 lagtimes each)\n"
     ]
    },
    {
     "data": {
      "text/plain": [
       "<ErrorbarContainer object of 3 artists>"
      ]
     },
     "execution_count": 25,
     "metadata": {},
     "output_type": "execute_result"
    },
    {
     "data": {
      "image/png": "[encoded data removed]",
      "text/plain": [
       "<Figure size 432x288 with 1 Axes>"
      ]
     },
     "metadata": {
      "needs_background": "light"
     },
     "output_type": "display_data"
    }
   ],
   "source": [
    "g2m1, g2m1_lags, g2m1_err = RP.AverageCorrTimetrace(total_corr[0], ROI_proc.imgTimes, tau_list, avg_interval=None, return_stderr=True)\n",
    "print('g2-1 averaged on {0} time intervals ({1} lagtimes each)'.format(g2m1.shape[0], g2m1.shape[1]))\n",
    "plt.errorbar(g2m1_lags[0], g2m1[0], yerr=g2m1_err[0])"
   ]
  },
  {
   "cell_type": "markdown",
   "metadata": {},
   "source": [
    "```ROIproc.AverageCorrTimetrace``` also works with non-uniform time acquisition (\"multitau\" or \"smart time sampling\"), when the same time delay in image units corresponds to different time delays in physical units, depending on the reference time. The reconstruction of time delays in physical units is done by the auxiliary function\n",
    "\n",
    "```python\n",
    "alllags, unique_laglist = SharedFunctions.FindLags(series, lags_index, refs_index=None, subset_intervals=None, tolerance=1e-2, tolerance_isrelative=True)\n",
    "```\n",
    "\n",
    "where:\n",
    "\n",
    "- ```series``` is a list of time points (float), not necessarily equally spaced\n",
    "- ```lags_index``` is a list of positive lag indexes (int, >=0). WARNING: not yet compatible with negative lag indexes\n",
    "- ```refs_index```: list of reference time indexes (int, >=0). If ```None``` (default), it will be set to ```[0,1,...,len(series)-1]```. WARNING: ```refs_index``` needs to be in ascending order, needs to have no duplicated elements and all elements need to be in the ```[0,len(series)]``` interval\n",
    "- ```subset_intervals``` is ```None``` or list of intervals ```[min_idx, max_idx]```. Eventually divide the analysis in intervals based on first (reference) time. If None, it will be set to the entire section\n",
    "- ```tolerance``` and ```tolerance_isrelative``` are parameters controlling the coarse graining of unique lag times, to avoid having many lag times slightly different because of floating point precision\n",
    "                \n",
    "The function returns:\n",
    "\n",
    "- ```alllags```: 2D list (float if series is float). ```alllags[i][j] = series[j+lag[i]] - series[j]``` NOTE: this is not a square matrix, as ```len(alllags[i])``` depends on i (no element is added to the list if ```j+lag[i] >= len(series)```)\n",
    "- ```unique_laglist```:   2D list. Element ```[i][j]``` is j-th lagtime of i-th analyzed subsection, coarse-grained to identify all lags closer together than the defined ```tolerance```"
   ]
  },
  {
   "cell_type": "code",
   "execution_count": 26,
   "metadata": {},
   "outputs": [
    {
     "name": "stderr",
     "output_type": "stream",
     "text": [
      "DEBUG:root:[[0, 7, 1], [7, 10, 1]]\n",
      "DEBUG:root:[0, 7, 1]\n"
     ]
    },
    {
     "ename": "TypeError",
     "evalue": "'>=' not supported between instances of 'list' and 'int'",
     "output_type": "error",
     "traceback": [
      "\u001b[1;31m---------------------------------------------------------------------------\u001b[0m",
      "\u001b[1;31mTypeError\u001b[0m                                 Traceback (most recent call last)",
      "\u001b[1;32m<ipython-input-26-7b4f47c2eff8>\u001b[0m in \u001b[0;36m<module>\u001b[1;34m\u001b[0m\n\u001b[1;32m----> 1\u001b[1;33m \u001b[0mg2m1_alllags\u001b[0m\u001b[1;33m,\u001b[0m \u001b[0mg2m1_laglist\u001b[0m \u001b[1;33m=\u001b[0m \u001b[0msf\u001b[0m\u001b[1;33m.\u001b[0m\u001b[0mFindLags\u001b[0m\u001b[1;33m(\u001b[0m\u001b[0mROI_proc\u001b[0m\u001b[1;33m.\u001b[0m\u001b[0mimgTimes\u001b[0m\u001b[1;33m,\u001b[0m \u001b[0mtau_list\u001b[0m\u001b[1;33m,\u001b[0m \u001b[0msf\u001b[0m\u001b[1;33m.\u001b[0m\u001b[0mValidateAverageInterval\u001b[0m\u001b[1;33m(\u001b[0m\u001b[1;36m7\u001b[0m\u001b[1;33m,\u001b[0m \u001b[0mROI_proc\u001b[0m\u001b[1;33m.\u001b[0m\u001b[0mImageNumber\u001b[0m\u001b[1;33m(\u001b[0m\u001b[1;33m)\u001b[0m\u001b[1;33m)\u001b[0m\u001b[1;33m)\u001b[0m\u001b[1;33m\u001b[0m\u001b[1;33m\u001b[0m\u001b[0m\n\u001b[0m\u001b[0;32m      2\u001b[0m \u001b[0mprint\u001b[0m\u001b[1;33m(\u001b[0m\u001b[0mtau_list\u001b[0m\u001b[1;33m)\u001b[0m\u001b[1;33m\u001b[0m\u001b[1;33m\u001b[0m\u001b[0m\n\u001b[0;32m      3\u001b[0m \u001b[0mg2m1_laglist\u001b[0m\u001b[1;33m\u001b[0m\u001b[1;33m\u001b[0m\u001b[0m\n",
      "\u001b[1;32m~\\Documents\\Codes\\DSH\\DSHpy\\DSH\\SharedFunctions.py\u001b[0m in \u001b[0;36mFindLags\u001b[1;34m(series, lags_index, refs_index, subset_intervals, tolerance, tolerance_isrelative, verbose)\u001b[0m\n\u001b[0;32m    553\u001b[0m         \u001b[0mlogging\u001b[0m\u001b[1;33m.\u001b[0m\u001b[0mdebug\u001b[0m\u001b[1;33m(\u001b[0m\u001b[0mrefs_index\u001b[0m\u001b[1;33m)\u001b[0m\u001b[1;33m\u001b[0m\u001b[1;33m\u001b[0m\u001b[0m\n\u001b[0;32m    554\u001b[0m         \u001b[0mlogging\u001b[0m\u001b[1;33m.\u001b[0m\u001b[0mdebug\u001b[0m\u001b[1;33m(\u001b[0m\u001b[0mrefs_index\u001b[0m\u001b[1;33m[\u001b[0m\u001b[1;36m0\u001b[0m\u001b[1;33m]\u001b[0m\u001b[1;33m)\u001b[0m\u001b[1;33m\u001b[0m\u001b[1;33m\u001b[0m\u001b[0m\n\u001b[1;32m--> 555\u001b[1;33m         \u001b[1;32massert\u001b[0m \u001b[1;33m(\u001b[0m\u001b[0mrefs_index\u001b[0m\u001b[1;33m[\u001b[0m\u001b[1;36m0\u001b[0m\u001b[1;33m]\u001b[0m \u001b[1;33m>=\u001b[0m \u001b[1;36m0\u001b[0m\u001b[1;33m)\u001b[0m\u001b[1;33m,\u001b[0m \u001b[1;34m'FindLags input error: refs_index cannot have negative indexes'\u001b[0m\u001b[1;33m\u001b[0m\u001b[1;33m\u001b[0m\u001b[0m\n\u001b[0m\u001b[0;32m    556\u001b[0m         \u001b[1;32massert\u001b[0m \u001b[1;33m(\u001b[0m\u001b[0mrefs_index\u001b[0m\u001b[1;33m[\u001b[0m\u001b[1;33m-\u001b[0m\u001b[1;36m1\u001b[0m\u001b[1;33m]\u001b[0m \u001b[1;33m<\u001b[0m \u001b[0mlen\u001b[0m\u001b[1;33m(\u001b[0m\u001b[0mseries\u001b[0m\u001b[1;33m)\u001b[0m\u001b[1;33m)\u001b[0m\u001b[1;33m,\u001b[0m \u001b[1;34m'FindLags input error: maximum value ({0}) exceeds length of time series ({1})'\u001b[0m\u001b[1;33m.\u001b[0m\u001b[0mformat\u001b[0m\u001b[1;33m(\u001b[0m\u001b[0mrefs_index\u001b[0m\u001b[1;33m[\u001b[0m\u001b[1;33m-\u001b[0m\u001b[1;36m1\u001b[0m\u001b[1;33m]\u001b[0m\u001b[1;33m,\u001b[0m \u001b[0mlen\u001b[0m\u001b[1;33m(\u001b[0m\u001b[0mseries\u001b[0m\u001b[1;33m)\u001b[0m\u001b[1;33m)\u001b[0m\u001b[1;33m\u001b[0m\u001b[1;33m\u001b[0m\u001b[0m\n\u001b[0;32m    557\u001b[0m \u001b[1;33m\u001b[0m\u001b[0m\n",
      "\u001b[1;31mTypeError\u001b[0m: '>=' not supported between instances of 'list' and 'int'"
     ]
    }
   ],
   "source": [
    "g2m1_alllags, g2m1_laglist = sf.FindLags(ROI_proc.imgTimes, tau_list, sf.ValidateAverageInterval(7, ROI_proc.ImageNumber()))\n",
    "print(tau_list)\n",
    "g2m1_laglist #TODO: logging added in SharedFunctions.py line 555 (sf.FindLags)"
   ]
  },
  {
   "cell_type": "code",
   "execution_count": null,
   "metadata": {},
   "outputs": [],
   "source": [
    "test_timeseries = sf.SmartTimeSamplingSeries(minimum_delay=0.1, pair_duration=1, cycle_duration=3, num_points=13)\n",
    "lag_idx = [1,2,6]\n",
    "alllags, unique_laglist = sf.FindLags(test_timeseries, lag_idx)\n",
    "print('Generated {0} timepulses for smart time sampling: {1}'.format(len(test_timeseries), test_timeseries))\n",
    "print('{0} lagtimes in image units {1} generated {2} unique lagtimes in physical units {3}'.format(len(lag_idx), lag_idx, len(unique_laglist[0]), unique_laglist[0]))\n",
    "print('alllags[i] is the list of physical time lags generated by i-th lagtime (in image units)')\n",
    "print('Example: i={0} (d{1}) generates {2}'.format(0, lag_idx[0], alllags[0]))"
   ]
  },
  {
   "cell_type": "markdown",
   "metadata": {},
   "source": [
    "### Complete analysis\n",
    "\n",
    "This multi-step analysis can be run through the function:\n",
    "```python\n",
    "ROIproc.doDLS(saveFolder, lagtimes, reftimes='all', drift_corr=0, no_buffer=False, force_SLS=True, save_transposed=False, include_negative_lags=False)\n",
    "```\n",
    "\n",
    "where:\n",
    "\n",
    "- ```saveFolder```: folder path to export analysis output\n",
    "- ```lagtimes```: ```'all'``` or list of ```int```.\n",
    "    - If ```'all'```, all available lagtimes will be processed\n",
    "    - Otherwise, only specified lagtimes will be processed\n",
    "- ```reftimes```: ```'all'``` or list of ```int```.\n",
    "    - If ```'all'```, all reference times will be used\n",
    "    - Otherwise, specialize the analysis to a subset of reference times specified in the list\n",
    "- ```drift_corr```: positive integer to compute drift-corrected correlations (see below)\n",
    "- ```no_buffer```: If ```True```, avoid reading full MIfile to RAM. It saves memory but slows down processing.\n",
    "- ```force_SLS```: If ```False```, program will load previously computed SLS results if available.\n",
    "- ```save_transposed```: specifies the format of correlation timetrace output\n",
    "    - if ```False```, classic cI output: one line per reference time, one column per time delay\n",
    "    - if ```True```, transposed output: one line per time delay, one column per reference time\n",
    "- ```include_negative_lags```: eventually include negative lagtime in the analysis\n",
    "    - if ```False``` (default), only process prositive lagtimes. If ```reftimes=='all'```, negative lagtimes are redundant and ```include_negative_lags``` will be set to ```False```. \n",
    "    - If sparse ```reftimes``` are processed, set ```include_negative_lags==True``` to include negative lagtimes"
   ]
  },
  {
   "cell_type": "code",
   "execution_count": null,
   "metadata": {},
   "outputs": [],
   "source": [
    "%%time\n",
    "fout=os.path.join(froot, 'out')\n",
    "ROI_proc.doDLS(fout, lagtimes='all', reftimes='all', drift_corr=0, no_buffer=False, force_SLS=True, save_transposed=False)"
   ]
  },
  {
   "cell_type": "markdown",
   "metadata": {},
   "source": [
    "If the number of logging lines generated by this function is too large, it can be lowered by setting the ```ROI_proc.LoopMaxInfoN``` parameter:"
   ]
  },
  {
   "cell_type": "code",
   "execution_count": null,
   "metadata": {},
   "outputs": [],
   "source": [
    "ROI_proc.LoopMaxInfoN = 3\n",
    "ROI_proc.doDLS(fout, lagtimes='all', reftimes='all', drift_corr=0, no_buffer=False, force_SLS=True, save_transposed=False)"
   ]
  },
  {
   "cell_type": "markdown",
   "metadata": {},
   "source": [
    "The final step of the analysis computes the time-averaged correlation functions $g_2(\\tau)-1$ from two-point correlations $c_I(t, \\tau)$. This can be done after the analysis using:\n",
    "\n",
    "```python\n",
    "ROI_proc.AverageG2M1(folder_path, avg_interval=None, search_prefix=['cI_','cIcr_','dx_','dy_'], save_prefix=['g2m1','g2m1cr','avgdx','avgdy'], save_stderr=False, sharp_bound=False, lag_tolerance=1e-2, lag_tolerance_isrelative=True)\n",
    "```\n",
    "\n",
    "where:\n",
    "\n",
    "- ```folder_path```: folder path containing cI-like output files to be loaded and time-averaged. Output data is also saved in ```folder_path```.\n",
    "- ```avg_interval```:  ```None```, ```int```, single interval ```[min_idx, max_idx, [step_idx=1]]``` or list of intervals ```[interval1, ..., intervalN]```, as in the ```ROIproc.AverageCorrTimetrace``` function described above.\n",
    "- ```search_prefix``` and ```save_prefix```: lists of ```str```. Number of elements in ```save_prefix``` must match that of ```search_prefix```. For each file with a given ```search_prefix```, the output g2m1 file will have the corresponding ```save_prefix```.\n",
    "- ```save_stderr```: ```bool```. If ```save_stderr==False```, the output file will have ```2N``` columns, one per reference time. Columns will be: ```[tau_1, g2m1_1, tau_2, g2m1_2, ..., tau_N, g2m1_N]```. Otherwise, the function will also calculate the standard deviation of the correlation values being averaged, and save it into an additional column. In this case, columns in the output file will be: ```[tau_1, g2m1_1, g2m1err_1, tau_2, g2m1_2, g2m1err_2, ..., tau_N, g2m1_N, g2m1err_N]```.\n",
    "- ```sharp_bound```: ```bool```. If you want ```avg_interval``` to restrict not only the reference time $t$, but also the later time $t+\\tau$, set ```sharp_bound=True```. \n",
    "- ```lag_tolerance```, ```lag_tolerance_isrelative```. Parameters specifying the criterion to group *equal* time delays together (see ```ROIproc.AverageCorrTimetrace``` above for details)\n",
    "\n",
    "This function loads all cI-like output files from the specified ```folder_path``` (cI-like is defined by the ```.dat``` extension and a prefix included in the list of prefixes specified in ```search_prefix```), average correlation data with the same timelag and save them to g2-1 files, replacing the prefix with the corresponding one specified in ```save_prefix```."
   ]
  },
  {
   "cell_type": "code",
   "execution_count": null,
   "metadata": {},
   "outputs": [],
   "source": [
    "ROI_proc.AverageG2M1(fout, avg_interval=[2,6], sharp_bound=True)"
   ]
  },
  {
   "cell_type": "markdown",
   "metadata": {},
   "source": [
    "When analyzing a limited set of reference times and a large number of lagtimes, it may be convenient to save a transposed version of the correlation timetraces, with one time delay per row and one reference time per column. The result can be obtained activating the ```save_transposed``` flag. In this case, one can also include the negative time delays, too, by using ```include_negative_lags=True```"
   ]
  },
  {
   "cell_type": "code",
   "execution_count": null,
   "metadata": {},
   "outputs": [],
   "source": [
    "%%time\n",
    "fout_trans=os.path.join(froot, 'out_trans')\n",
    "ROI_proc.doDLS(fout_trans, lagtimes='all', reftimes=[0, 4, 8], drift_corr=0, no_buffer=False, force_SLS=True, save_transposed=True, include_negative_lags=True)"
   ]
  },
  {
   "cell_type": "markdown",
   "metadata": {},
   "source": [
    "### Visualizing output\n",
    "\n",
    "Analysis result is saved in the specified output folder. \n",
    "Several output files will be generated:\n",
    "\n",
    "- **analysis_log.txt**: log file keeping track of analysis steps performed and time taken to perform each step\n",
    "- ROIproc configuration\n",
    "    - **ROIcoords.dat**: ROI coordinates, if given, and normalization factors (ROI areas)\n",
    "    - **ROImask.raw**: raw image (data type: 32bit integer, signed, no header, same shape as original image). Pixel value is the index of the ROI that pixel belongs to (0-based, as in the DLS filenames), and -1 for pixel not belonging to any ROI\n",
    "    - **ROIprocConfig.ini**: configuration file containing analysis and ```ROIproc``` parameters\n",
    "    - **imgTimes.dat**: list of image times\n",
    "- SLS output:\n",
    "    - **Iavg_raw.dat**: ROI-averaged image intensity for each input image (one per exposure time, if multiple exposure times are present). Ageraged intensity is already normalized by the exposure time\n",
    "    - **exptimes.dat**: optimal exposure time for each ROI and acquired image\n",
    "    - **Iavg.dat**: ROI-averaged optimal image intensity for each input image (obtained selecting the optimal exposure time reported in exptimes.dat)\n",
    "- DLS output:\n",
    "    - **cI_ROIxxx_eyy.dat**: correlation timetraces, where xxx is the ROI index and yy the exposure time index\n",
    "    - **g2m1_ROIxxx_eyy.dat**: time-averaged correlation functions\n",
    "- Drift-corrected DLS output:\n",
    "    - **cIcr_ROIxxx_eyy.dat**: timetrace of the peak of spatial crosscorrelation\n",
    "    - **g2m1cr_ROIxxx_eyy.dat**: time-averaged decay of crosscorrelation peak\n",
    "    - **dx_ROIxxx_eyy.dat**, **dy_ROIxxx_eyy.dat** x and y components of the correlation peak drift\n",
    "    - **avgdx_ROIxxx_eyy.dat**, **avgdy_ROIxxx_eyy.dat** time-averaged x and y components of the correlation peak drift"
   ]
  },
  {
   "cell_type": "code",
   "execution_count": null,
   "metadata": {},
   "outputs": [],
   "source": [
    "for i in os.listdir(fout):\n",
    "    print(i)"
   ]
  },
  {
   "cell_type": "markdown",
   "metadata": {},
   "source": [
    "A few functions in ```IOfunctions``` make it easier to read these output files:\n",
    "\n",
    "```python\n",
    "# To open a generic ASCII file with results:\n",
    "res_arr[, hdr_list][, firstcol] = IOfunctions.LoadResFile(fname, readHeader=True, isolateFirst=0, delimiter=',', comments='#')\n",
    "```\n",
    "\n",
    "The function returns:\n",
    "- ```res_arr```: a 1D or 2D array with data in the input file\n",
    "- ```hdr_list```: a list of header entries ```(str)```, as many as the number of columns in ```res_arr``` (independently of ```isolateFirst```). Header is the first line of the ASCII file. Only returned if ```readHeader==True```\n",
    "- ```firstcol```: a 1D or 2D array with the first ```isolateFirst``` initial columns, isolated from the rest of the data. Only returned if ```isolateFirst>0```\n",
    "\n",
    "```python\n",
    "# To open Iavg_raw.dat\n",
    "Iav, roi_coords, times, exptimes = IOfunctions.OpenRawSLS(fname, roi_numcoords=2, delimiter='\\t', comments='#')\n",
    "```\n",
    "\n",
    "The function returns:\n",
    "- ```Iav```: a 2D or 3D array with ROI-averaged intensities. ```Iav[i,j,k]``` is the average on ```i```-th ROI of the image taken at ```j```-th time with ```k```-th exposure time. If only one time or one exposure time are present, the result is squeezed to a 2D array\n",
    "- ```roi_coords```: a 1D or 2D array, depending on ```roi_numcoords```, with the ROI coordinates\n",
    "- ```times```: 1D or 2D array array with image times for each SLS spectrum ```Iav[:,j,k]``` or ```Iav[:,j]```, in physical units (default: seconds)\n",
    "- ```exptimes```: 1D or 2D array array with exposure times for each SLS spectrum, in physical units (default: milliseconds)"
   ]
  },
  {
   "cell_type": "code",
   "execution_count": null,
   "metadata": {},
   "outputs": [],
   "source": [
    "Iav, roi_coords, times, exptimes = iof.OpenRawSLS(os.path.join(fout, 'Iavg_raw.dat'), roi_numcoords=1)\n",
    "print('Iav.shape  = ' + str(Iav.shape))\n",
    "print('roi_coords = ' + str(roi_coords))\n",
    "print('times      = ' + str(times))\n",
    "print('exptimes   = ' + str(exptimes))"
   ]
  },
  {
   "cell_type": "markdown",
   "metadata": {},
   "source": [
    "```python\n",
    "# To open Iavg.dat\n",
    "Iav, roi_coords, times = IOfunctions.OpenSLS(fname, roi_numcoords=2, delimiter='\\t', comments='#')\n",
    "```\n",
    "\n",
    "The function returns:\n",
    "- ```Iav```: a 2D array with ROI-averaged intensities. ```Iav[i,j]``` is the average on ```i```-th ROI of the image taken at ```j```-th time with the best exposure time.\n",
    "- ```roi_coords```: a 1D or 2D array, depending on ```roi_numcoords```, with the ROI coordinates\n",
    "- ```times```: 1D array array with image times for each SLS spectrum ```Iav[:,j]```, in physical units (default: seconds)"
   ]
  },
  {
   "cell_type": "code",
   "execution_count": null,
   "metadata": {},
   "outputs": [],
   "source": [
    "Iav, roi_coords, times = iof.OpenSLS(os.path.join(fout, 'Iavg.dat'), roi_numcoords=1)\n",
    "print('Iav.shape  = ' + str(Iav.shape))\n",
    "print('roi_coords = ' + str(roi_coords))\n",
    "print('times      = ' + str(times))"
   ]
  },
  {
   "cell_type": "markdown",
   "metadata": {},
   "source": [
    "```python\n",
    "# To open cI_ROIxxx_eyy.dat\n",
    "cI_data, times, lagidx_list = IOfunctions.ReadCIfile(fpath, time_colidx=1, delimiter='\\t', comments='#')\n",
    "```\n",
    "\n",
    "The function returns:\n",
    "- ```cI_data```: a 2D array with two-time correlation values. ```cI_data[i,j]``` is the correlation between image taken at ```i```-th time (as specified in the ```reftimes``` parameter of ```ROI_proc.doDLS```) with the image taken at a time set by the ```j```-th lagtime (as specified in the ```lagtimes``` parameter of ```ROI_proc.doDLS```).\n",
    "- ```times```: 1D array array with times of each reference image, in physical units (default: seconds)\n",
    "- ```lagidx_list```: 1D array with lagtimes in image units ```(int)```"
   ]
  },
  {
   "cell_type": "code",
   "execution_count": null,
   "metadata": {},
   "outputs": [],
   "source": [
    "cI_data, times, lagidx_list = iof.ReadCIfile(os.path.join(fout, 'cI_ROI000_e00.dat'))\n",
    "print('cI_data.shape = ' + str(cI_data.shape))\n",
    "print('times         = ' + str(times))\n",
    "print('lagidx_list   = ' + str(lagidx_list))\n",
    "for i in range(len(lagidx_list)):\n",
    "    plt.plot(times, cI_data[:,i], label='d'+str(lagidx_list[i]))\n",
    "plt.legend()"
   ]
  },
  {
   "cell_type": "markdown",
   "metadata": {},
   "source": [
    "```python\n",
    "# To open transposed cI_ROIxxx_eyy.dat\n",
    "trans_cI_data, lagtimes, reftime_idx_list = IOfunctions.ReadCIfile(fpath, time_colidx=1, delimiter='\\t', comments='#')\n",
    "```\n",
    "\n",
    "The function returns:\n",
    "- ```trans_cI_data```: a 2D array with two-time correlation values. ```trans_cI_data[i,j]``` is the correlation between image taken at ```j```-th time (as specified in the ```reftimes``` parameter of ```ROI_proc.doDLS```) with the image taken at a time set by the ```i```-th lagtime (as specified in the ```lagtimes``` parameter of ```ROI_proc.doDLS```).\n",
    "- ```lagtimes```: 1D array array with lag times of each reference image, in image units\n",
    "- ```reftime_idx_list```: 1D array with reference times in image units ```(int)```"
   ]
  },
  {
   "cell_type": "code",
   "execution_count": null,
   "metadata": {},
   "outputs": [],
   "source": [
    "trans_cI_data, lagtimes, reftime_idx_list = iof.ReadCIfile(os.path.join(fout_trans, 'cI_ROI000_e00.dat'), time_colidx=0)\n",
    "print('trans cI_data.shape = ' + str(trans_cI_data.shape))\n",
    "print('lag times           = ' + str(lagtimes))\n",
    "print('reftime_idx_list    = ' + str(reftime_idx_list))\n",
    "for i in range(len(reftime_idx_list)):\n",
    "    plt.plot(lagtimes, trans_cI_data[:,i], label='t'+str(reftime_idx_list[i]))\n",
    "plt.legend()"
   ]
  },
  {
   "cell_type": "markdown",
   "metadata": {},
   "source": [
    "```python\n",
    "# To open all cI_*.dat files in folder\n",
    "cI_data, times, lagidx_list, ROI_list, exptime_list = IOfunctions.OpenCIs(froot, fname_prefix='cI_', time_colidx=1, delimiter='\\t', comments='#')\n",
    "```\n",
    "\n",
    "The function returns:\n",
    "- ```cI_data```: list of 2D arrays, each one as returned by ```IOfunctions.ReadCIfile```\n",
    "- ```times```, ```lagidx_list```: lists of 1D arrays with times and lagtimes, one element per ROI (they should be all equal)\n",
    "- ```ROI_list```, ```exptime_list```: list of ROI and exptime indices"
   ]
  },
  {
   "cell_type": "code",
   "execution_count": null,
   "metadata": {},
   "outputs": [],
   "source": [
    "cI_data, times, lagidx_list, ROI_list, exptime_list = iof.OpenCIs(fout)\n",
    "print('cI_data: {0} elements, each of shape {1}'.format(len(cI_data), cI_data[0].shape))\n",
    "print('times: {0} elements, first element: {1}'.format(len(times), times[0]))\n",
    "print('lagidx_list: {0} elements, first element: {1}'.format(len(lagidx_list), lagidx_list[0]))\n",
    "print('ROI_list ({0} elements): {1}'.format(len(ROI_list), ROI_list))\n",
    "print('exptime_list ({0} elements): {1}'.format(len(exptime_list), exptime_list))"
   ]
  },
  {
   "cell_type": "markdown",
   "metadata": {},
   "source": [
    "```python\n",
    "# To open one or all g2m1_*.dat files in folder\n",
    "g2m1_data, lagtimes, imgtimes, ROI_list, exptime_list = IOfunctions.OpenG2M1s(froot, expt_idx=None, roi_idx=None, fname_prefix='g2m1_', time_colidx=1, delimiter='\\t', comments='#')\n",
    "```\n",
    "\n",
    "If specified, ```expt_idx``` and/or ```roi_idx``` filter the selection to the given exposure time and ROI indexes\n",
    "\n",
    "The function returns:\n",
    "- ```g2m1_data```: list of 2D arrays, each one with correlation functions $g_2(\\tau)-1$ for one given ROI. They can eventually be time-resolved: one column per time point. The first row ($\\tau=0$) reports the contrast (```d0```) before normalization\n",
    "- ```lagtimes```: lists of 2D arrays with lagtimes relative to ```g2m1_data``` points, in physical units (the same as times in cI data)\n",
    "- ```imgtimes```: list of 1D arrays with timepoints relative to columns in ```g2m1_data```, in physical units\n",
    "- ```ROI_list```, ```exptime_list```: list of ROI and exptime indices"
   ]
  },
  {
   "cell_type": "code",
   "execution_count": null,
   "metadata": {},
   "outputs": [],
   "source": [
    "g2m1_data, lagtimes, imgtimes, ROI_list, exptime_list = iof.OpenG2M1s(fout)\n",
    "for i in range(len(g2m1_data)):\n",
    "    plt.plot(lagtimes[i][0][1:], g2m1_data[i][0][1:], label='ROI'+str(ROI_list[i]).zfill(3)+'_e'+str(exptime_list[i]).zfill(2))\n",
    "plt.legend()"
   ]
  },
  {
   "cell_type": "markdown",
   "metadata": {},
   "source": [
    "```python\n",
    "# To open ROIcoords.dat\n",
    "ROIcoords, ROInames, NormFact, ROIbb = IOfunctions.LoadROIcoords(file_name, delimiter='\\t', comments='#')\n",
    "```\n",
    "\n",
    "The function returns:\n",
    "- ```ROIcoords```: a 1D or 2D array with ROI coordinates\n",
    "- ```ROInames```: a list of ```str``` with names of ROI coordinates\n",
    "- ```NormFact```: a 1D array with number of pixels in each ROI\n",
    "- ```ROIbb```: 2D array array with 4 columns and 1 row per ROI, with ROI bounding boxes in the format ```[min_row, min_col, max_row, max_col]``` relative to the global bounding box"
   ]
  },
  {
   "cell_type": "code",
   "execution_count": null,
   "metadata": {},
   "outputs": [],
   "source": [
    "ROIcoords, ROInames, NormFact, ROIbb = iof.LoadROIcoords(os.path.join(fout, 'ROIcoords.dat'))\n",
    "print(ROInames)\n",
    "print(ROIcoords)\n",
    "fig, ax = plt.subplots()\n",
    "ax.imshow(im1_crop, interpolation='none', extent=(0, ROI_proc.CropROIbb[2], ROI_proc.CropROIbb[3], 0))\n",
    "for ridx in range(len(ROI_proc.ROI_masks_crop)):\n",
    "    _rbb = ROIbb[ridx]\n",
    "    ax.add_patch(patches.Rectangle((_rbb[1], _rbb[0]), _rbb[3]-_rbb[1], _rbb[2]-_rbb[0], edgecolor='r', facecolor='none'))"
   ]
  },
  {
   "cell_type": "markdown",
   "metadata": {},
   "source": [
    "### Load config or analysis from file\n",
    "\n",
    "```ROIproc.ExportConfiguration()```, called with ```doDLS```, saves all the configuration files needed to reinitialize ```ROIproc``` together with the whole analysis. \n",
    "The configuration file can be directly imported into a ```Config``` object:"
   ]
  },
  {
   "cell_type": "code",
   "execution_count": null,
   "metadata": {},
   "outputs": [],
   "source": [
    "out_config = cf.Config(os.path.join(fout, 'ROIprocConfig.ini'))\n",
    "print(out_config)"
   ]
  },
  {
   "cell_type": "markdown",
   "metadata": {},
   "source": [
    "This configuration can be used to re-run the analysis with the same parameters, using the function\n",
    "\n",
    "```python\n",
    "ROI_proc.RunFromConfig(ConfigParams, AnalysisSection='Analysis', OutputSubfolder='reproc', export_configparams=None)\n",
    "```\n",
    "\n",
    "where:\n",
    "- ```ConfigParams``` is the full path of the config file to read or a Config object containing the analysis parameters\n",
    "- ```AnalysisSection``` is the name of the configuration section containing analysis parameters\n",
    "- ```OutputSubfolder``` is the name of the subfolder to save the analysis output. Root folder would be the ```Analysis.out_folder``` field. Set it to ```None``` to save the output in ```Analysis.out_folder```\n",
    "- ```export_configparams``` is a ```dict``` eventually containing additional parameters to export with the analysis configuration file"
   ]
  },
  {
   "cell_type": "code",
   "execution_count": null,
   "metadata": {},
   "outputs": [],
   "source": [
    "ROI_proc.RunFromConfig(out_config)"
   ]
  },
  {
   "cell_type": "markdown",
   "metadata": {},
   "source": [
    "The configuration file can also be used to load a new ```ROIproc``` object and eventually re-run the analysis, using the function\n",
    "\n",
    "```python\n",
    "ROI_proc_reload = RP.LoadFromConfig(ConfigParams, runAnalysis=True)\n",
    "```\n",
    "\n",
    "where:\n",
    "- ```ConfigParams``` is the full path of the config file to read or a dict or a Config object\n",
    "- ```runAnalysis=True``` runs the analysis after initializing the object using ```ROI_proc.RunFromConfig```"
   ]
  },
  {
   "cell_type": "code",
   "execution_count": null,
   "metadata": {},
   "outputs": [],
   "source": [
    "ROI_proc_reload = RP.LoadFromConfig(out_config, runAnalysis=True)"
   ]
  },
  {
   "cell_type": "code",
   "execution_count": null,
   "metadata": {},
   "outputs": [],
   "source": [
    "g2m1_data, lagtimes, imgtimes, ROI_list, exptime_list = iof.OpenG2M1s(os.path.join(fout, 'reproc'))\n",
    "for i in range(len(g2m1_data)):\n",
    "    plt.plot(lagtimes[i][0][1:], g2m1_data[i][0][1:], label='ROI'+str(ROI_list[i]).zfill(3)+'_e'+str(exptime_list[i]).zfill(2))\n",
    "plt.legend()"
   ]
  },
  {
   "cell_type": "markdown",
   "metadata": {},
   "source": [
    "A simpler .ini file can also be manually configured to run the analysis:"
   ]
  },
  {
   "cell_type": "code",
   "execution_count": null,
   "metadata": {},
   "outputs": [],
   "source": [
    "roi_config = cf.Config(os.path.join(froot, 'config', 'ROIprocConfig_manual.ini'))\n",
    "print(roi_config)"
   ]
  },
  {
   "cell_type": "code",
   "execution_count": null,
   "metadata": {},
   "outputs": [],
   "source": [
    "ROI_proc_manual = RP.LoadFromConfig(os.path.join(froot, 'config', 'ROIprocConfig_manual.ini'), runAnalysis=True)"
   ]
  },
  {
   "cell_type": "code",
   "execution_count": null,
   "metadata": {},
   "outputs": [],
   "source": [
    "g2m1_data, lagtimes, imgtimes, ROI_list, exptime_list = iof.OpenG2M1s(os.path.join(froot, 'out_manualconfig'))\n",
    "for i in range(len(g2m1_data)):\n",
    "    plt.plot(lagtimes[i][0][1:], g2m1_data[i][0][1:], label='ROI'+str(ROI_list[i]).zfill(3)+'_e'+str(exptime_list[i]).zfill(2))\n",
    "plt.legend()"
   ]
  }
 ],
 "metadata": {
  "kernelspec": {
   "display_name": "DSH",
   "language": "python",
   "name": "python3"
  },
  "language_info": {
   "codemirror_mode": {
    "name": "ipython",
    "version": 3
   },
   "file_extension": ".py",
   "mimetype": "text/x-python",
   "name": "python",
   "nbconvert_exporter": "python",
   "pygments_lexer": "ipython3",
   "version": "3.9.17"
  }
 },
 "nbformat": 4,
 "nbformat_minor": 4
}
