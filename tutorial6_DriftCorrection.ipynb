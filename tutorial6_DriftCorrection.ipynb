{
 "cells": [
  {
   "cell_type": "code",
   "execution_count": 1,
   "metadata": {},
   "outputs": [
    {
     "name": "stderr",
     "output_type": "stream",
     "text": [
      "INFO:root:Drift correction tutorial started\n"
     ]
    }
   ],
   "source": [
    "%matplotlib inline\n",
    "import matplotlib.pyplot as plt\n",
    "import matplotlib.patches as patches\n",
    "import numpy as np\n",
    "import os\n",
    "import time\n",
    "from DSH import MIfile as MI\n",
    "from DSH import Config as cf\n",
    "from DSH import ROIproc as RP\n",
    "from DSH import SharedFunctions as sf\n",
    "from DSH import IOfunctions as iof\n",
    "\n",
    "import logging\n",
    "logger = logging.getLogger()\n",
    "logger.setLevel(logging.DEBUG)\n",
    "logger = logging.getLogger('matplotlib')\n",
    "logger.setLevel(logging.WARNING)\n",
    "logging.info('Drift correction tutorial started')"
   ]
  },
  {
   "cell_type": "markdown",
   "metadata": {},
   "source": [
    "# Processing speckle translations\n",
    "\n",
    "Let's restart from the speckle movie from tutorial 4:"
   ]
  },
  {
   "cell_type": "code",
   "execution_count": 2,
   "metadata": {},
   "outputs": [
    {
     "name": "stderr",
     "output_type": "stream",
     "text": [
      "DEBUG:root:MIfile object created with filename ..\\ROI_test\\MI.raw\n",
      "DEBUG:root:Now loading MIfile metadata (from filename: ..\\ROI_test\\MI_metadata.ini)\n"
     ]
    },
    {
     "ename": "OSError",
     "evalue": "Configuration file ..\\ROI_test\\MI_metadata.ini not found",
     "output_type": "error",
     "traceback": [
      "\u001b[1;31m---------------------------------------------------------------------------\u001b[0m",
      "\u001b[1;31mOSError\u001b[0m                                   Traceback (most recent call last)",
      "Cell \u001b[1;32mIn[2], line 2\u001b[0m\n\u001b[0;32m      1\u001b[0m froot \u001b[38;5;241m=\u001b[39m \u001b[38;5;124mr\u001b[39m\u001b[38;5;124m'\u001b[39m\u001b[38;5;124m..\u001b[39m\u001b[38;5;124m\\\u001b[39m\u001b[38;5;124mROI_test\u001b[39m\u001b[38;5;124m'\u001b[39m\n\u001b[1;32m----> 2\u001b[0m MIinput \u001b[38;5;241m=\u001b[39m \u001b[43mMI\u001b[49m\u001b[38;5;241;43m.\u001b[39;49m\u001b[43mMIfile\u001b[49m\u001b[43m(\u001b[49m\u001b[43mos\u001b[49m\u001b[38;5;241;43m.\u001b[39;49m\u001b[43mpath\u001b[49m\u001b[38;5;241;43m.\u001b[39;49m\u001b[43mjoin\u001b[49m\u001b[43m(\u001b[49m\u001b[43mfroot\u001b[49m\u001b[43m,\u001b[49m\u001b[43m \u001b[49m\u001b[38;5;124;43m'\u001b[39;49m\u001b[38;5;124;43mMI.raw\u001b[39;49m\u001b[38;5;124;43m'\u001b[39;49m\u001b[43m)\u001b[49m\u001b[43m,\u001b[49m\u001b[43m \u001b[49m\u001b[43mos\u001b[49m\u001b[38;5;241;43m.\u001b[39;49m\u001b[43mpath\u001b[49m\u001b[38;5;241;43m.\u001b[39;49m\u001b[43mjoin\u001b[49m\u001b[43m(\u001b[49m\u001b[43mfroot\u001b[49m\u001b[43m,\u001b[49m\u001b[43m \u001b[49m\u001b[38;5;124;43m'\u001b[39;49m\u001b[38;5;124;43mMI_metadata.ini\u001b[39;49m\u001b[38;5;124;43m'\u001b[39;49m\u001b[43m)\u001b[49m\u001b[43m)\u001b[49m\n\u001b[0;32m      3\u001b[0m MIinput\u001b[38;5;241m.\u001b[39mOpenForReading()\n\u001b[0;32m      4\u001b[0m im1 \u001b[38;5;241m=\u001b[39m MIinput\u001b[38;5;241m.\u001b[39mGetImage(\u001b[38;5;241m0\u001b[39m)\n",
      "File \u001b[1;32mc:\\Users\\stefa\\Documents\\GitHub\\DSHpy\\DSH\\MIfile.py:274\u001b[0m, in \u001b[0;36mMIfile.__init__\u001b[1;34m(self, FileName, MetaData)\u001b[0m\n\u001b[0;32m    272\u001b[0m     MetaData \u001b[38;5;241m=\u001b[39m os\u001b[38;5;241m.\u001b[39mpath\u001b[38;5;241m.\u001b[39msplitext(FileName)[\u001b[38;5;241m0\u001b[39m] \u001b[38;5;241m+\u001b[39m \u001b[38;5;124m'\u001b[39m\u001b[38;5;124m_metadata.ini\u001b[39m\u001b[38;5;124m'\u001b[39m\n\u001b[0;32m    273\u001b[0m     logging\u001b[38;5;241m.\u001b[39mdebug(\u001b[38;5;124m'\u001b[39m\u001b[38;5;124mMIfile - Metadata filename automatically generated: \u001b[39m\u001b[38;5;124m'\u001b[39m \u001b[38;5;241m+\u001b[39m \u001b[38;5;28mstr\u001b[39m(MetaData))\n\u001b[1;32m--> 274\u001b[0m \u001b[38;5;28;43mself\u001b[39;49m\u001b[38;5;241;43m.\u001b[39;49m\u001b[43m_load_metadata\u001b[49m\u001b[43m(\u001b[49m\u001b[43mMetaData\u001b[49m\u001b[43m)\u001b[49m\n",
      "File \u001b[1;32mc:\\Users\\stefa\\Documents\\GitHub\\DSHpy\\DSH\\MIfile.py:615\u001b[0m, in \u001b[0;36mMIfile._load_metadata\u001b[1;34m(self, meta_data)\u001b[0m\n\u001b[0;32m    613\u001b[0m     logging\u001b[38;5;241m.\u001b[39minfo(\u001b[38;5;124m'\u001b[39m\u001b[38;5;124mMIfile._load_metadata() : Default MI settings file (\u001b[39m\u001b[38;5;132;01m{0}\u001b[39;00m\u001b[38;5;124m) not found. Loading metadata with hard-coded defaults\u001b[39m\u001b[38;5;124m'\u001b[39m\u001b[38;5;241m.\u001b[39mformat(default_settings))\n\u001b[0;32m    614\u001b[0m     default_settings \u001b[38;5;241m=\u001b[39m []\n\u001b[1;32m--> 615\u001b[0m \u001b[38;5;28mself\u001b[39m\u001b[38;5;241m.\u001b[39mMetaData \u001b[38;5;241m=\u001b[39m \u001b[43mcf\u001b[49m\u001b[38;5;241;43m.\u001b[39;49m\u001b[43mLoadMetadata\u001b[49m\u001b[43m(\u001b[49m\u001b[43mmeta_data\u001b[49m\u001b[43m,\u001b[49m\u001b[43m \u001b[49m\u001b[43mSectionName\u001b[49m\u001b[38;5;241;43m=\u001b[39;49m\u001b[38;5;124;43m'\u001b[39;49m\u001b[38;5;124;43mMIfile\u001b[39;49m\u001b[38;5;124;43m'\u001b[39;49m\u001b[43m,\u001b[49m\u001b[43m \u001b[49m\u001b[43mDefaultFiles\u001b[49m\u001b[38;5;241;43m=\u001b[39;49m\u001b[43mdefault_settings\u001b[49m\u001b[43m)\u001b[49m\n\u001b[0;32m    616\u001b[0m \u001b[38;5;28;01mif\u001b[39;00m \u001b[38;5;124m'\u001b[39m\u001b[38;5;124mMIfile\u001b[39m\u001b[38;5;124m'\u001b[39m \u001b[38;5;129;01mnot\u001b[39;00m \u001b[38;5;129;01min\u001b[39;00m \u001b[38;5;28mself\u001b[39m\u001b[38;5;241m.\u001b[39mMetaData\u001b[38;5;241m.\u001b[39mGetSections():\n\u001b[0;32m    617\u001b[0m     logging\u001b[38;5;241m.\u001b[39mwarn(\u001b[38;5;124m'\u001b[39m\u001b[38;5;124mNo MIfile section found in MIfile metadata (available sections: \u001b[39m\u001b[38;5;124m'\u001b[39m \u001b[38;5;241m+\u001b[39m \u001b[38;5;28mstr\u001b[39m(\u001b[38;5;28mself\u001b[39m\u001b[38;5;241m.\u001b[39mMetaData\u001b[38;5;241m.\u001b[39mGetSections()) \u001b[38;5;241m+\u001b[39m \u001b[38;5;124m'\u001b[39m\u001b[38;5;124m)\u001b[39m\u001b[38;5;124m'\u001b[39m)\n",
      "File \u001b[1;32mc:\\Users\\stefa\\Documents\\GitHub\\DSHpy\\DSH\\Config.py:34\u001b[0m, in \u001b[0;36mLoadMetadata\u001b[1;34m(MetaData, SectionName, DefaultFiles)\u001b[0m\n\u001b[0;32m     33\u001b[0m \u001b[38;5;28;01mdef\u001b[39;00m \u001b[38;5;21mLoadMetadata\u001b[39m(MetaData, SectionName\u001b[38;5;241m=\u001b[39m\u001b[38;5;28;01mNone\u001b[39;00m, DefaultFiles\u001b[38;5;241m=\u001b[39m[]):\n\u001b[1;32m---> 34\u001b[0m     \u001b[38;5;28;01mreturn\u001b[39;00m \u001b[43mLoadConfig\u001b[49m\u001b[43m(\u001b[49m\u001b[43mMetaData\u001b[49m\u001b[43m,\u001b[49m\u001b[43m \u001b[49m\u001b[43mSectionName\u001b[49m\u001b[43m,\u001b[49m\u001b[43m \u001b[49m\u001b[43mDefaultFiles\u001b[49m\u001b[43m)\u001b[49m\n",
      "File \u001b[1;32mc:\\Users\\stefa\\Documents\\GitHub\\DSHpy\\DSH\\Config.py:58\u001b[0m, in \u001b[0;36mLoadConfig\u001b[1;34m(ConfigData, SectionName, DefaultFiles)\u001b[0m\n\u001b[0;32m     56\u001b[0m     outConfig\u001b[38;5;241m.\u001b[39mImport(ConfigData, section_name\u001b[38;5;241m=\u001b[39mSectionName)\n\u001b[0;32m     57\u001b[0m \u001b[38;5;28;01melif\u001b[39;00m (\u001b[38;5;28mtype\u001b[39m(ConfigData) \u001b[38;5;129;01min\u001b[39;00m [\u001b[38;5;28mstr\u001b[39m]):\n\u001b[1;32m---> 58\u001b[0m     outConfig \u001b[38;5;241m=\u001b[39m \u001b[43mConfig\u001b[49m\u001b[43m(\u001b[49m\u001b[43mConfigData\u001b[49m\u001b[43m,\u001b[49m\u001b[43m \u001b[49m\u001b[43mdefaultConfigFiles\u001b[49m\u001b[38;5;241;43m=\u001b[39;49m\u001b[43mDefaultFiles\u001b[49m\u001b[43m,\u001b[49m\u001b[43m \u001b[49m\u001b[43mLoadSectionOnly\u001b[49m\u001b[38;5;241;43m=\u001b[39;49m\u001b[43mSectionName\u001b[49m\u001b[43m)\u001b[49m\n\u001b[0;32m     59\u001b[0m     logging\u001b[38;5;241m.\u001b[39mdebug(\u001b[38;5;124m'\u001b[39m\u001b[38;5;124mLoading config file \u001b[39m\u001b[38;5;124m'\u001b[39m \u001b[38;5;241m+\u001b[39m \u001b[38;5;28mstr\u001b[39m(ConfigData) \u001b[38;5;241m+\u001b[39m \u001b[38;5;124m'\u001b[39m\u001b[38;5;124m (\u001b[39m\u001b[38;5;124m'\u001b[39m \u001b[38;5;241m+\u001b[39m \u001b[38;5;28mstr\u001b[39m(outConfig\u001b[38;5;241m.\u001b[39mCountSections()) \u001b[38;5;241m+\u001b[39m \n\u001b[0;32m     60\u001b[0m                   \u001b[38;5;124m'\u001b[39m\u001b[38;5;124m sections, \u001b[39m\u001b[38;5;124m'\u001b[39m \u001b[38;5;241m+\u001b[39m \u001b[38;5;28mstr\u001b[39m(outConfig\u001b[38;5;241m.\u001b[39mCountKeys()) \u001b[38;5;241m+\u001b[39m \u001b[38;5;124m'\u001b[39m\u001b[38;5;124m keys)\u001b[39m\u001b[38;5;124m'\u001b[39m)\n\u001b[0;32m     61\u001b[0m \u001b[38;5;28;01melse\u001b[39;00m:\n",
      "File \u001b[1;32mc:\\Users\\stefa\\Documents\\GitHub\\DSHpy\\DSH\\Config.py:101\u001b[0m, in \u001b[0;36mConfig.__init__\u001b[1;34m(self, ConfigFile, defaultConfigFiles, LoadSectionOnly)\u001b[0m\n\u001b[0;32m     99\u001b[0m         \u001b[38;5;28mself\u001b[39m\u001b[38;5;241m.\u001b[39mconfig\u001b[38;5;241m.\u001b[39mread(ConfigFile)\n\u001b[0;32m    100\u001b[0m     \u001b[38;5;28;01melse\u001b[39;00m:\n\u001b[1;32m--> 101\u001b[0m         \u001b[38;5;28;01mraise\u001b[39;00m \u001b[38;5;167;01mIOError\u001b[39;00m(\u001b[38;5;124m'\u001b[39m\u001b[38;5;124mConfiguration file \u001b[39m\u001b[38;5;124m'\u001b[39m \u001b[38;5;241m+\u001b[39m \u001b[38;5;28mstr\u001b[39m(ConfigFile) \u001b[38;5;241m+\u001b[39m \u001b[38;5;124m'\u001b[39m\u001b[38;5;124m not found\u001b[39m\u001b[38;5;124m'\u001b[39m)\n\u001b[0;32m    102\u001b[0m \u001b[38;5;28;01mif\u001b[39;00m LoadSectionOnly \u001b[38;5;129;01mis\u001b[39;00m \u001b[38;5;129;01mnot\u001b[39;00m \u001b[38;5;28;01mNone\u001b[39;00m:\n\u001b[0;32m    103\u001b[0m     \u001b[38;5;28;01mif\u001b[39;00m (\u001b[38;5;28mself\u001b[39m\u001b[38;5;241m.\u001b[39mconfig\u001b[38;5;241m.\u001b[39mhas_section(LoadSectionOnly)):\n",
      "\u001b[1;31mOSError\u001b[0m: Configuration file ..\\ROI_test\\MI_metadata.ini not found"
     ]
    }
   ],
   "source": [
    "froot = r'..\\ROI_test'\n",
    "MIinput = MI.MIfile(os.path.join(froot, 'MI.raw'), os.path.join(froot, 'MI_metadata.ini'))\n",
    "MIinput.OpenForReading()\n",
    "im1 = MIinput.GetImage(0)\n",
    "plt.imshow(im1)\n",
    "plt.colorbar()"
   ]
  },
  {
   "cell_type": "code",
   "execution_count": 2,
   "metadata": {},
   "outputs": [
    {
     "name": "stderr",
     "output_type": "stream",
     "text": [
      "DEBUG:root:MIfile object created with filename D:\\Data\\RheoSALS\\231010\\SALS\\xp2628_3.5per\\RheoSals\\231108_xp2626_3per_tracers0p5um\\0.01mms-1\\PS_NEG\\000_DLS.raw\n",
      "DEBUG:root:Now loading MIfile metadata (from filename: D:\\Data\\RheoSALS\\231010\\SALS\\xp2628_3.5per\\RheoSals\\231108_xp2626_3per_tracers0p5um\\0.01mms-1\\PS_NEG\\000_DLS_metadata.ini)\n",
      "DEBUG:root:Loading config file D:\\Data\\RheoSALS\\231010\\SALS\\xp2628_3.5per\\RheoSals\\231108_xp2626_3per_tracers0p5um\\0.01mms-1\\PS_NEG\\000_DLS_metadata.ini (1 sections, 6 keys)\n",
      "DEBUG:root:Now loading MIfile.MetaData from Config object. Available sections: ['MIfile']\n"
     ]
    },
    {
     "data": {
      "text/plain": [
       "<matplotlib.colorbar.Colorbar at 0x271c1863be0>"
      ]
     },
     "execution_count": 2,
     "metadata": {},
     "output_type": "execute_result"
    },
    {
     "data": {
      "image/png": "[encoded data removed]",
      "text/plain": [
       "<Figure size 640x480 with 2 Axes>"
      ]
     },
     "metadata": {},
     "output_type": "display_data"
    }
   ],
   "source": [
    "froot = r'D:\\Data\\RheoSALS\\231010\\SALS\\xp2628_3.5per\\RheoSals\\231108_xp2626_3per_tracers0p5um\\0.01mms-1\\PS_NEG'\n",
    "MIinput = MI.MIfile(os.path.join(froot, '000_DLS.raw'), os.path.join(froot, '000_DLS_metadata.ini'))\n",
    "MIinput.OpenForReading()\n",
    "cropROI = [660, 470, 10, 50]\n",
    "im1 = MIinput.GetImage(0, cropROI=cropROI)\n",
    "plt.imshow(im1)\n",
    "plt.colorbar()"
   ]
  },
  {
   "cell_type": "markdown",
   "metadata": {},
   "source": [
    "### Crosscorrelation matrix\n",
    "\n",
    "In the example analyzed in Tutorial 4, part of the speckle decorrelation comes from a rigid translational motion of the speckles. Translations can be measured by computing the spatial crosscorrelation of the two images:\n",
    "\n",
    "$$ c_I(t, \\tau, \\vec{\\delta}) \\propto \\langle I(\\vec{x}, t) I(\\vec{x}+\\vec{\\delta}, t+\\tau) \\rangle $$\n",
    "\n",
    "This quantity can be computed on a pixel-discretized grid using the function:\n",
    "\n",
    "```python\n",
    "Xcorr = ROIproc.CalcCrosscorrMatrix(Image, Reference, SearchRange=1, SearchROI=None, ValidateInput=True, MaximizeReference=False, Normalized=True)\n",
    "```\n",
    "\n",
    "where:\n",
    "- ```Image``` and ```Reference``` are 2D vectors (input images). They must have the same shape. Shift is computed using ```Reference``` as reference.\n",
    "- ```SearchRange``` can be an ```int```, a couple of integers or 4D vector with boundaries for search range, in the form ```[min_x, max_x, min_y, max_y]``` where ```min_x, max_x``` are minimum and maximum x lags (along columns), ```min_y, max_y``` are minimum and maximum y lags (along rows). If integer (```SearchRange=margin```), search range is ```[-margin, margin, -margin, margin]```. If couple of integers (```SearchRange=[margin_x, margin_y]```), search range is ```[-margin_x, margin_x, -margin_y, margin_y]```\n",
    "- ```SearchROI``` is a 4D vector defining the ROI that is crosscorrelated, in the form ```[min_row, min_col, max_row, max_col]```, compatible with ```ROIproc.ROIboundingBoxes```. If ```None```, ```SearchROI``` is set to the largest subset allowing to explore the whole ```SearchRange```. NOTE: ROI should be far enough from the boundaries to allow searching in the expected range. If this is not the case, ```SearchRange``` will be reduced\n",
    "- ```ValidateInput``` : if ```True```, validate ```SearchRange``` and ```SearchROI```. Else, assume that it will be valid (to increase computation speed)\n",
    "- ```MaximizeReference``` : if ```True```, choose for each displacement choose the largest reference compatible with that displacement; if ```False```, choose the reference such that it fits all possible displacements. \n",
    "    NOTE: ```MaximizeReference==True``` is slower and doesn't accept a ```SearchROI```, but allows computing larger displacements and gives results more robust against changes in ```SearchRange```\n",
    "- ```Normalized``` :  if ```False```, compute (non-normalized) covariance matrix: $covar = \\langle IJ \\rangle -\\langle I \\rangle \\langle J \\rangle$. If ```True```, compute normalized correlation: $corr = covar / \\sqrt{\\langle I^2 \\rangle\\langle J^2 \\rangle}$"
   ]
  },
  {
   "cell_type": "code",
   "execution_count": 3,
   "metadata": {},
   "outputs": [
    {
     "data": {
      "text/plain": [
       "<matplotlib.colorbar.Colorbar at 0x271c19367c0>"
      ]
     },
     "execution_count": 3,
     "metadata": {},
     "output_type": "execute_result"
    },
    {
     "data": {
      "image/png": "[encoded data removed]",
      "text/plain": [
       "<Figure size 640x480 with 2 Axes>"
      ]
     },
     "metadata": {},
     "output_type": "display_data"
    }
   ],
   "source": [
    "search_range = 2\n",
    "im1, im2 = MIinput.GetImage(1070, cropROI=cropROI), MIinput.GetImage(1000, cropROI=cropROI)\n",
    "Xcorr = RP.CalcCrosscorrMatrix(im1, im2, SearchRange=search_range, SearchROI=None, ValidateInput=True, MaximizeReference=True)\n",
    "plt.imshow(Xcorr)\n",
    "plt.colorbar()"
   ]
  },
  {
   "cell_type": "markdown",
   "metadata": {},
   "source": [
    "Compare execution times:"
   ]
  },
  {
   "cell_type": "code",
   "execution_count": 5,
   "metadata": {},
   "outputs": [
    {
     "name": "stdout",
     "output_type": "stream",
     "text": [
      "554 µs ± 4.44 µs per loop (mean ± std. dev. of 7 runs, 1,000 loops each)\n",
      "799 µs ± 10.3 µs per loop (mean ± std. dev. of 7 runs, 1,000 loops each)\n"
     ]
    }
   ],
   "source": [
    "%timeit RP.CalcCrosscorrMatrix(im1, im2, SearchRange=search_range, SearchROI=None, ValidateInput=True, MaximizeReference=False)\n",
    "%timeit RP.CalcCrosscorrMatrix(im1, im2, SearchRange=search_range, SearchROI=None, ValidateInput=True, MaximizeReference=True)"
   ]
  },
  {
   "cell_type": "markdown",
   "metadata": {},
   "source": [
    "Compare results with and without maximizing reference:"
   ]
  },
  {
   "cell_type": "code",
   "execution_count": 6,
   "metadata": {},
   "outputs": [
    {
     "data": {
      "text/plain": [
       "<matplotlib.colorbar.Colorbar at 0x1d92bcbe7c0>"
      ]
     },
     "execution_count": 6,
     "metadata": {},
     "output_type": "execute_result"
    },
    {
     "data": {
      "image/png": "[encoded data removed]",
      "text/plain": [
       "<Figure size 640x480 with 2 Axes>"
      ]
     },
     "metadata": {},
     "output_type": "display_data"
    }
   ],
   "source": [
    "plt.imshow(RP.CalcCrosscorrMatrix(im1, im2, SearchRange=search_range, SearchROI=None, ValidateInput=True, MaximizeReference=True) - RP.CalcCrosscorrMatrix(im1, im2, SearchRange=search_range, SearchROI=None, ValidateInput=True, MaximizeReference=False))\n",
    "plt.colorbar()"
   ]
  },
  {
   "cell_type": "markdown",
   "metadata": {},
   "source": [
    "Compare impact of SearchRange with and without maximizing reference:"
   ]
  },
  {
   "cell_type": "code",
   "execution_count": 7,
   "metadata": {},
   "outputs": [
    {
     "data": {
      "text/plain": [
       "<matplotlib.colorbar.Colorbar at 0x1d92be6e4c0>"
      ]
     },
     "execution_count": 7,
     "metadata": {},
     "output_type": "execute_result"
    },
    {
     "data": {
      "image/png": "[encoded data removed]",
      "text/plain": [
       "<Figure size 640x480 with 2 Axes>"
      ]
     },
     "metadata": {},
     "output_type": "display_data"
    },
    {
     "data": {
      "image/png": "[encoded data removed]",
      "text/plain": [
       "<Figure size 640x480 with 2 Axes>"
      ]
     },
     "metadata": {},
     "output_type": "display_data"
    }
   ],
   "source": [
    "plt.imshow(RP.CalcCrosscorrMatrix(im1, im2, SearchRange=search_range+1, SearchROI=None, ValidateInput=True, MaximizeReference=False)[1:-1,1:-1] \n",
    "           - RP.CalcCrosscorrMatrix(im1, im2, SearchRange=search_range, SearchROI=None, ValidateInput=True, MaximizeReference=False))\n",
    "plt.colorbar()\n",
    "plt.figure()\n",
    "plt.imshow(RP.CalcCrosscorrMatrix(im1, im2, SearchRange=search_range+1, SearchROI=None, ValidateInput=True, MaximizeReference=True)[1:-1,1:-1] \n",
    "           - RP.CalcCrosscorrMatrix(im1, im2, SearchRange=search_range, SearchROI=None, ValidateInput=True, MaximizeReference=True))\n",
    "plt.colorbar()"
   ]
  },
  {
   "cell_type": "markdown",
   "metadata": {},
   "source": [
    "### Tracking crosscorrelation peak\n",
    "\n",
    "For a translating speckle pattern, $ c_I(t, \\tau, \\vec{\\delta})$ shows a peak for a value of $\\vec{\\delta}_p(t, \\tau)$ matching the translation between time $t$ and time $t+\\tau$. The peak value is 1 for a pure rigid translation, and decreases if speckle *boiling* dynamics is superimposed to the translation.\n",
    "The value of $\\vec{\\delta}_p$, as well as the peak height $ c_I(t, \\tau, \\vec{\\delta}_p)$ can be extracted from the crosscorrelation matrix using the function\n",
    "\n",
    "```python\n",
    "delta_x, delta_y, peak_height = FindSubpixelPeak(Matrix, TopLeftCoord=(0,0), Method='paraboloid')\n",
    "```\n",
    "\n",
    "where:\n",
    "- ```Matrix``` is the input crosscorrelation matrix\n",
    "- ```TopLeftCoord``` is a couple of values specifying the coordinates of the top-left corner of the matrix\n",
    "- ```Method``` : ```['paraboloid', 'overlap']``` specifies the method to compute the position with subpixel resolution\n",
    "    - ```'paraboloid'```: approximate the peak height with a 2D paraboloid, use peak neighborhood to fix paraboloid coefficients, find vertex height and position. Works best with larger speckles\n",
    "    - ```'overlap'```: Luca's method, optimized for small speckles\n",
    "\n",
    "**PARABOLOID**\n",
    "\n",
    "Let's test the paraboloid method first:"
   ]
  },
  {
   "cell_type": "code",
   "execution_count": 8,
   "metadata": {},
   "outputs": [
    {
     "name": "stdout",
     "output_type": "stream",
     "text": [
      "dx=-0.47463551688378947; dy=-0.01724500071331403; corr_peak=0.3366299034992277\n"
     ]
    }
   ],
   "source": [
    "delta_x, delta_y, peak_height = RP.FindSubpixelPeak(Xcorr, TopLeftCoord=(-search_range,-search_range), Method='paraboloid')\n",
    "print('dx={0}; dy={1}; corr_peak={2}'.format(delta_x, delta_y, peak_height))"
   ]
  },
  {
   "cell_type": "markdown",
   "metadata": {},
   "source": [
    "The function assumes that the correlation peak has a parabolic shape, and extract the 6 coefficients of the paraboloid $z = a_0 + a_1(x-x_0) + a_2(x-x_0)(x-x_1) + a_3(x-x_0)(y-y_0) + a_4(y-y_0) + a_5(y-y_0)(y-y_1)$ from the value of 6 pixels around the absolute maximum of ```Xcorr```. Here, $x_0, x_1, y_0, y_1$ are pixel-discretized coordinates around the maximum. 5 out of the 6 pixels are fixed to a cross centered in the absolute maximum: they are used to fix ${a_0, a_1, a_2, a_4, a_5}$. There are 4 natural choices for the 6th point needed to fix $a_3$: the program computes the coordinates averages on all four of them using the function ```FindParabolaExt(_corr, _x0, _y0, _x3, _y3, _a0, _a1, _a2, _a4, _a5)```, and then averages on all four choices.\n",
    "\n",
    "**OVERLAP**\n",
    "\n",
    "The overlap method is more complex: first, we need to find the crosscorrelation peak position with pixel resolution:"
   ]
  },
  {
   "cell_type": "code",
   "execution_count": 5,
   "metadata": {},
   "outputs": [
    {
     "name": "stdout",
     "output_type": "stream",
     "text": [
      "Pixel-resolved peak position is [2, 2], max value is 0.3208485032806772\n"
     ]
    }
   ],
   "source": [
    "px_peak_x, px_peak_y, px_peak_z = RP.FindSubpixelPeak(Xcorr, Method='none')\n",
    "print('Pixel-resolved peak position is {0}, max value is {1}'.format([px_peak_x, px_peak_y], px_peak_z))"
   ]
  },
  {
   "cell_type": "code",
   "execution_count": null,
   "metadata": {},
   "outputs": [],
   "source": []
  },
  {
   "cell_type": "markdown",
   "metadata": {},
   "source": [
    "compute the covariance matrix:\n",
    "\n",
    "$$\n",
    "covar[J,I](\\delta_x, \\delta_y) = \\langle J(x,y)I(x+\\delta_x,y+\\delta_y)\\rangle _{x,y} - \\langle I\\rangle\\langle J\\rangle\n",
    "$$\n",
    "\n",
    "We can compute it by ```CalcCrosscorrMatrix(Image, Reference, Normalized=False)```"
   ]
  },
  {
   "cell_type": "code",
   "execution_count": 10,
   "metadata": {},
   "outputs": [
    {
     "data": {
      "text/plain": [
       "<matplotlib.colorbar.Colorbar at 0x1d92c0422e0>"
      ]
     },
     "execution_count": 10,
     "metadata": {},
     "output_type": "execute_result"
    },
    {
     "data": {
      "image/png": "[encoded data removed]",
      "text/plain": [
       "<Figure size 640x480 with 2 Axes>"
      ]
     },
     "metadata": {},
     "output_type": "display_data"
    }
   ],
   "source": [
    "plt.imshow(RP.CalcCrosscorrMatrix(im1, im2, SearchRange=search_range, SearchROI=None, ValidateInput=True, MaximizeReference=True, Normalized=False))\n",
    "plt.colorbar()"
   ]
  },
  {
   "cell_type": "markdown",
   "metadata": {},
   "source": [
    "The whole analysis can be done by calling the function\n",
    "\n",
    "```python\n",
    "delta_x, delta_y, peak_height = ROIproc.FindCrosscorrPeak(Image, Reference, SearchRange, SearchROI=None, SubgridShape=None, ValidateInput=True)\n",
    "```\n",
    "\n",
    "where most parameters are the same as the ones discussed above for ```ROIproc.CalcCrosscorrMatrix```."
   ]
  },
  {
   "cell_type": "code",
   "execution_count": 12,
   "metadata": {},
   "outputs": [
    {
     "name": "stdout",
     "output_type": "stream",
     "text": [
      "dx=-0.4567546901964723; dy=-0.016011821337505783; corr_peak=0.9759998659878033\n"
     ]
    }
   ],
   "source": [
    "delta_x, delta_y, peak_height = RP.FindCrosscorrPeak(im1, im2, SearchRange=search_range, Method='paraboloid')\n",
    "print('dx={0}; dy={1}; corr_peak={2}'.format(delta_x, delta_y, peak_height))"
   ]
  },
  {
   "cell_type": "markdown",
   "metadata": {},
   "source": [
    "### Dividing analysis in subgrid\n",
    "\n",
    "In addition, ```ROIproc.FindCrosscorrPeak``` has a parameter ```SubgridShape```, which can be either ```None``` or couple of ```int``` (M,N). It is used to eventually divide the validated ```SearchROI``` into a grid of MxN ROIs (M ROIs along x axis, N along y axis), and process drifts independently in each subROI, to obtain statistics (average and standard deviation). ```None``` corresponds to ```(1,1)```"
   ]
  },
  {
   "cell_type": "code",
   "execution_count": 13,
   "metadata": {},
   "outputs": [
    {
     "name": "stderr",
     "output_type": "stream",
     "text": [
      "WARNING:root:FindCrosscorrPeak with SearchROI or SubgridShape specified: MaximizeReference option deactivated\n",
      "DEBUG:root:Processing 4 subgrid regions\n"
     ]
    },
    {
     "name": "stdout",
     "output_type": "stream",
     "text": [
      "dx=-0.005827109487743898+/-0.003749912826309468; dy=0.0019957852398765352+/-0.0023038747497307584; corr_peak=0.9989932504475812+/-0.00034160421991776083\n"
     ]
    }
   ],
   "source": [
    "delta_x_avg, delta_y_avg, peak_height_avg, delta_x_std, delta_y_std, peak_height_std = RP.FindCrosscorrPeak(MIinput.GetImage(1), MIinput.GetImage(0), SearchRange=2, SubgridShape=(2,2))\n",
    "print('dx={0}+/-{1}; dy={2}+/-{3}; corr_peak={4}+/-{5}'.format(delta_x_avg, delta_x_std, delta_y_avg, delta_y_std, peak_height_avg, peak_height_std))"
   ]
  },
  {
   "cell_type": "markdown",
   "metadata": {},
   "source": [
    "Dividing into a 2x2 grid suggests that we have a 0.005px uncertainty on peak position and better than 0.1% uncertainty on peak height. This should depend on the number of pixels, $N_{px}$, in the ROI used for the analysis: according to central limit theorem, variance should scale with $\\sigma^2 \\sim 1/N_{px}$ if noise is purely statistical, otherwise it should have a nonzero intercept for $1/N_{px}\\rightarrow 0$ if there is another source of noise. In our case it looks purely statistical, and a ROI with $N_{px}=10^4$ pixels should give better than 0.01px accuracy on peak displacement and better than 0.1% accuracy on peak height "
   ]
  },
  {
   "cell_type": "code",
   "execution_count": null,
   "metadata": {},
   "outputs": [],
   "source": [
    "Nlist = np.asarray([2,4,8,16,32])\n",
    "subROIpxNum = np.asarray([np.prod(MIinput.ImageShape())/N**2 for N in Nlist])\n",
    "stat_res = np.empty((len(Nlist), 6), dtype=float)\n",
    "for i in range(len(Nlist)):\n",
    "    stat_res[i] = RP.FindCrosscorrPeak(MIinput.GetImage(1), MIinput.GetImage(0), SearchRange=2, SubgridShape=(Nlist[i],Nlist[i]))\n",
    "\n",
    "fig, ax = plt.subplots()\n",
    "ax.plot(1/subROIpxNum, stat_res[:,3]**2, 'bo:', label='dx')\n",
    "ax.plot(1/subROIpxNum, stat_res[:,4]**2, 'rs:', label='dy')\n",
    "ax.plot(1/subROIpxNum, stat_res[:,5]**2, 'g^:', label='peak')\n",
    "ax.set_xscale('log')\n",
    "ax.set_yscale('log')\n",
    "ax.set_xlabel(r'$1/N_{px}$')\n",
    "ax.set_ylabel(r'$\\sigma^2$')\n",
    "ax.legend()"
   ]
  },
  {
   "cell_type": "markdown",
   "metadata": {},
   "source": [
    "### Integration in doDLS\n",
    "\n",
    "This *drift correction* can be integrated in the ```doDLS``` analysis by activating the ```drift_corr``` option (no ```SubgridShape``` option available here). Note, however, that this also requires that the ROI bounding box is defined with a ```BoundingBoxMargin``` at least equal to the maximum drift. This parameter can be changed by calling ```ROIproc.UpdateBBmargin(BoundingBoxMargin)```:"
   ]
  },
  {
   "cell_type": "code",
   "execution_count": null,
   "metadata": {},
   "outputs": [],
   "source": [
    "print('Bounding box before (margin={0}): {1}'.format(ROI_proc.BoundingBoxMargin, ROI_proc.BoundingBox))\n",
    "ROI_proc.UpdateBBmargin(10)\n",
    "print('Bounding box after (margin={0}): {1}'.format(ROI_proc.BoundingBoxMargin, ROI_proc.BoundingBox))\n",
    "\n",
    "im1_crop = ROI_proc.GetImage(0)\n",
    "print('Bounding box shape is: ' + str(im1_crop.shape))\n",
    "fig, ax = plt.subplots()\n",
    "ax.imshow(im1_crop, interpolation='none', extent=(0, ROI_proc.CropROIbb[2], ROI_proc.CropROIbb[3], 0))\n",
    "for ridx in range(len(ROI_proc.ROI_masks_crop)):\n",
    "    _rbb = ROI_proc.ROIboundingBoxes[ridx]\n",
    "    if ROI_proc.ROI_masks_crop is not None:\n",
    "        ax.imshow(ROI_proc.ROI_masks_crop[ridx], interpolation='none', extent=(_rbb[1], _rbb[3], _rbb[2], _rbb[0]), vmin=0, vmax=1)\n",
    "    ax.add_patch(patches.Rectangle((_rbb[1], _rbb[0]), _rbb[3]-_rbb[1], _rbb[2]-_rbb[0], edgecolor='r', facecolor='none'))\n",
    "ax.set_xlim([0, ROI_proc.CropROIbb[2]])\n",
    "ax.set_ylim([ROI_proc.CropROIbb[3], 0])\n",
    "\n",
    "print('ROIboundingBoxes:')\n",
    "print(ROI_proc.ROIboundingBoxes)"
   ]
  },
  {
   "cell_type": "markdown",
   "metadata": {},
   "source": [
    "Once updated ```BoundingBoxMargin```, we can compute ROI-resolved sparial crosscorrelations:"
   ]
  },
  {
   "cell_type": "code",
   "execution_count": null,
   "metadata": {},
   "outputs": [],
   "source": [
    "XcorrROI = RP.CalcCrosscorrMatrix(MIinput.GetImage(1), MIinput.GetImage(0), SearchRange=search_range, SearchROI=ROI_proc.ROIboundingBoxes[3], ValidateInput=True)\n",
    "plt.imshow(XcorrROI)\n",
    "plt.colorbar()"
   ]
  },
  {
   "cell_type": "code",
   "execution_count": null,
   "metadata": {},
   "outputs": [],
   "source": [
    "RP.ValidateShiftROI(ROI_proc.ROIboundingBoxes[0], 10, ROI_proc.GetCroppedShape(), debugMode=True)"
   ]
  },
  {
   "cell_type": "markdown",
   "metadata": {},
   "source": [
    "This drift correction is integrated in ```ROI_proc.doDLS()``` function if the ```drift_corr``` is set to a positive value (corresponding to ```search_range``` above):"
   ]
  },
  {
   "cell_type": "code",
   "execution_count": null,
   "metadata": {},
   "outputs": [],
   "source": [
    "%%time\n",
    "fout_drift=os.path.join(froot, 'out_drift')\n",
    "ROI_proc.doDLS(fout_drift, lagtimes='all', reftimes='all', drift_corr=10, no_buffer=True, force_SLS=True, save_transposed=False)"
   ]
  },
  {
   "cell_type": "markdown",
   "metadata": {},
   "source": [
    "In this particular case, same-pixel correlations decay pretty fast, whereas the height of the crosscorrelation peak is almost constant, indicating that the speckles are just translating rigidly:"
   ]
  },
  {
   "cell_type": "code",
   "execution_count": null,
   "metadata": {},
   "outputs": [],
   "source": [
    "g2m1_data, lagtimes, imgtimes, ROI_list, exptime_list = iof.OpenG2M1s(fout_drift, fname_prefix='g2m1_')\n",
    "g2m1cr_data, lagtimes, imgtimes, ROI_list, exptime_list = iof.OpenG2M1s(fout_drift, fname_prefix='g2m1cr_')\n",
    "for i in range(len(g2m1_data)):\n",
    "    plt.plot(lagtimes[i][0][1:], g2m1_data[i][0][1:], label='cI_ROI'+str(ROI_list[i]).zfill(3)+'_e'+str(exptime_list[i]).zfill(2))\n",
    "    plt.plot(lagtimes[i][0][1:], g2m1cr_data[i][0][1:], ls='--', label='cIcr_ROI'+str(ROI_list[i]).zfill(3)+'_e'+str(exptime_list[i]).zfill(2))\n",
    "plt.legend()"
   ]
  },
  {
   "cell_type": "markdown",
   "metadata": {},
   "source": [
    "The time-averaged output files can be used to quantify the drift:"
   ]
  },
  {
   "cell_type": "code",
   "execution_count": null,
   "metadata": {},
   "outputs": [],
   "source": [
    "dx_data, lagtimes, imgtimes, ROI_list, exptime_list = iof.OpenG2M1s(fout_drift, fname_prefix='avgdx_')\n",
    "dy_data, lagtimes, imgtimes, ROI_list, exptime_list = iof.OpenG2M1s(fout_drift, fname_prefix='avgdy_')\n",
    "for i in range(len(g2m1_data)):\n",
    "    plt.plot(lagtimes[i][0][1:], dx_data[i][0][1:], label='dx_ROI'+str(ROI_list[i]).zfill(3)+'_e'+str(exptime_list[i]).zfill(2))\n",
    "    plt.plot(lagtimes[i][0][1:], dy_data[i][0][1:], ls='--', label='dy_ROI'+str(ROI_list[i]).zfill(3)+'_e'+str(exptime_list[i]).zfill(2))\n",
    "plt.legend()"
   ]
  },
  {
   "cell_type": "markdown",
   "metadata": {},
   "source": [
    "Incidentally, drift-corrected analysis can be saved in transposed format as well, and can be reload and rerun from config file"
   ]
  },
  {
   "cell_type": "code",
   "execution_count": null,
   "metadata": {},
   "outputs": [],
   "source": [
    "ROI_proc_drift_reload = RP.LoadFromConfig(os.path.join(fout_drift, 'ROIprocConfig.ini'), runAnalysis=True)"
   ]
  },
  {
   "cell_type": "code",
   "execution_count": null,
   "metadata": {},
   "outputs": [],
   "source": [
    "%%time\n",
    "fout_drift_trans=os.path.join(froot, 'out_drift_trans')\n",
    "ROI_proc.doDLS(fout_drift_trans, lagtimes='all', reftimes=[3], drift_corr=10, no_buffer=True, force_SLS=True, save_transposed=True, include_negative_lags=True)"
   ]
  }
 ],
 "metadata": {
  "kernelspec": {
   "display_name": "DSH",
   "language": "python",
   "name": "python3"
  },
  "language_info": {
   "codemirror_mode": {
    "name": "ipython",
    "version": 3
   },
   "file_extension": ".py",
   "mimetype": "text/x-python",
   "name": "python",
   "nbconvert_exporter": "python",
   "pygments_lexer": "ipython3",
   "version": "3.9.17"
  }
 },
 "nbformat": 4,
 "nbformat_minor": 4
}
